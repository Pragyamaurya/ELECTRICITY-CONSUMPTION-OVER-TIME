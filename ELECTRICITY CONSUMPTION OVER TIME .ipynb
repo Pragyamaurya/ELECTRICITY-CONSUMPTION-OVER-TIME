{
 "cells": [
  {
   "cell_type": "code",
   "execution_count": null,
   "id": "53c331bf-5077-461d-8336-e9c917698eb1",
   "metadata": {},
   "outputs": [],
   "source": []
  },
  {
   "cell_type": "code",
   "execution_count": null,
   "id": "1487037d-848a-47ef-9572-5cd40419a943",
   "metadata": {},
   "outputs": [],
   "source": []
  },
  {
   "cell_type": "code",
   "execution_count": null,
   "id": "ad18b1d2-580a-4463-b099-ea2c49e98bcb",
   "metadata": {},
   "outputs": [],
   "source": [
    "#DATA "
   ]
  },
  {
   "cell_type": "code",
   "execution_count": null,
   "id": "49a78f8a-b8fb-4a6e-a2d0-d2f9ea3e032f",
   "metadata": {},
   "outputs": [],
   "source": []
  },
  {
   "cell_type": "markdown",
   "id": "d553f758-dcff-4ca0-ab68-5c4abdf3edca",
   "metadata": {},
   "source": [
    "# IMPORTING BASIC LIBRARIES"
   ]
  },
  {
   "cell_type": "code",
   "execution_count": 25,
   "id": "4eaff6c2-b210-41e0-92f1-9a790a834eca",
   "metadata": {},
   "outputs": [],
   "source": [
    "import pandas as pd\n",
    "import numpy as np\n",
    "import matplotlib.pyplot as plt\n",
    "import warnings\n",
    "warnings.filterwarnings(\"ignore\")"
   ]
  },
  {
   "cell_type": "code",
   "execution_count": null,
   "id": "09444011-7385-4e06-8b57-008aaa6240a7",
   "metadata": {},
   "outputs": [],
   "source": []
  },
  {
   "cell_type": "code",
   "execution_count": null,
   "id": "3ce8157e-714d-4659-9013-95be6f219e92",
   "metadata": {},
   "outputs": [],
   "source": []
  },
  {
   "cell_type": "markdown",
   "id": "b8f6387e-0b2b-4c00-b3be-65f091cc33bd",
   "metadata": {},
   "source": [
    "**READING THE DATA**"
   ]
  },
  {
   "cell_type": "code",
   "execution_count": 24,
   "id": "84adfe49-e1e7-4232-9da7-c4793a86319d",
   "metadata": {},
   "outputs": [
    {
     "data": {
      "text/html": [
       "<div>\n",
       "<style scoped>\n",
       "    .dataframe tbody tr th:only-of-type {\n",
       "        vertical-align: middle;\n",
       "    }\n",
       "\n",
       "    .dataframe tbody tr th {\n",
       "        vertical-align: top;\n",
       "    }\n",
       "\n",
       "    .dataframe thead th {\n",
       "        text-align: right;\n",
       "    }\n",
       "</style>\n",
       "<table border=\"1\" class=\"dataframe\">\n",
       "  <thead>\n",
       "    <tr style=\"text-align: right;\">\n",
       "      <th></th>\n",
       "      <th>Date</th>\n",
       "      <th>Time</th>\n",
       "      <th>Global_active_power</th>\n",
       "      <th>Global_reactive_power</th>\n",
       "      <th>Voltage</th>\n",
       "      <th>Global_intensity</th>\n",
       "      <th>Sub_metering_1</th>\n",
       "      <th>Sub_metering_2</th>\n",
       "      <th>Sub_metering_3</th>\n",
       "    </tr>\n",
       "  </thead>\n",
       "  <tbody>\n",
       "    <tr>\n",
       "      <th>0</th>\n",
       "      <td>16/12/2006</td>\n",
       "      <td>17:24:00</td>\n",
       "      <td>4.216</td>\n",
       "      <td>0.418</td>\n",
       "      <td>234.840</td>\n",
       "      <td>18.400</td>\n",
       "      <td>0.000</td>\n",
       "      <td>1.000</td>\n",
       "      <td>17.0</td>\n",
       "    </tr>\n",
       "    <tr>\n",
       "      <th>1</th>\n",
       "      <td>16/12/2006</td>\n",
       "      <td>17:25:00</td>\n",
       "      <td>5.360</td>\n",
       "      <td>0.436</td>\n",
       "      <td>233.630</td>\n",
       "      <td>23.000</td>\n",
       "      <td>0.000</td>\n",
       "      <td>1.000</td>\n",
       "      <td>16.0</td>\n",
       "    </tr>\n",
       "    <tr>\n",
       "      <th>2</th>\n",
       "      <td>16/12/2006</td>\n",
       "      <td>17:26:00</td>\n",
       "      <td>5.374</td>\n",
       "      <td>0.498</td>\n",
       "      <td>233.290</td>\n",
       "      <td>23.000</td>\n",
       "      <td>0.000</td>\n",
       "      <td>2.000</td>\n",
       "      <td>17.0</td>\n",
       "    </tr>\n",
       "    <tr>\n",
       "      <th>3</th>\n",
       "      <td>16/12/2006</td>\n",
       "      <td>17:27:00</td>\n",
       "      <td>5.388</td>\n",
       "      <td>0.502</td>\n",
       "      <td>233.740</td>\n",
       "      <td>23.000</td>\n",
       "      <td>0.000</td>\n",
       "      <td>1.000</td>\n",
       "      <td>17.0</td>\n",
       "    </tr>\n",
       "    <tr>\n",
       "      <th>4</th>\n",
       "      <td>16/12/2006</td>\n",
       "      <td>17:28:00</td>\n",
       "      <td>3.666</td>\n",
       "      <td>0.528</td>\n",
       "      <td>235.680</td>\n",
       "      <td>15.800</td>\n",
       "      <td>0.000</td>\n",
       "      <td>1.000</td>\n",
       "      <td>17.0</td>\n",
       "    </tr>\n",
       "    <tr>\n",
       "      <th>...</th>\n",
       "      <td>...</td>\n",
       "      <td>...</td>\n",
       "      <td>...</td>\n",
       "      <td>...</td>\n",
       "      <td>...</td>\n",
       "      <td>...</td>\n",
       "      <td>...</td>\n",
       "      <td>...</td>\n",
       "      <td>...</td>\n",
       "    </tr>\n",
       "    <tr>\n",
       "      <th>2075254</th>\n",
       "      <td>26/11/2010</td>\n",
       "      <td>20:58:00</td>\n",
       "      <td>0.946</td>\n",
       "      <td>0.0</td>\n",
       "      <td>240.43</td>\n",
       "      <td>4.0</td>\n",
       "      <td>0.0</td>\n",
       "      <td>0.0</td>\n",
       "      <td>0.0</td>\n",
       "    </tr>\n",
       "    <tr>\n",
       "      <th>2075255</th>\n",
       "      <td>26/11/2010</td>\n",
       "      <td>20:59:00</td>\n",
       "      <td>0.944</td>\n",
       "      <td>0.0</td>\n",
       "      <td>240.0</td>\n",
       "      <td>4.0</td>\n",
       "      <td>0.0</td>\n",
       "      <td>0.0</td>\n",
       "      <td>0.0</td>\n",
       "    </tr>\n",
       "    <tr>\n",
       "      <th>2075256</th>\n",
       "      <td>26/11/2010</td>\n",
       "      <td>21:00:00</td>\n",
       "      <td>0.938</td>\n",
       "      <td>0.0</td>\n",
       "      <td>239.82</td>\n",
       "      <td>3.8</td>\n",
       "      <td>0.0</td>\n",
       "      <td>0.0</td>\n",
       "      <td>0.0</td>\n",
       "    </tr>\n",
       "    <tr>\n",
       "      <th>2075257</th>\n",
       "      <td>26/11/2010</td>\n",
       "      <td>21:01:00</td>\n",
       "      <td>0.934</td>\n",
       "      <td>0.0</td>\n",
       "      <td>239.7</td>\n",
       "      <td>3.8</td>\n",
       "      <td>0.0</td>\n",
       "      <td>0.0</td>\n",
       "      <td>0.0</td>\n",
       "    </tr>\n",
       "    <tr>\n",
       "      <th>2075258</th>\n",
       "      <td>26/11/2010</td>\n",
       "      <td>21:02:00</td>\n",
       "      <td>0.932</td>\n",
       "      <td>0.0</td>\n",
       "      <td>239.55</td>\n",
       "      <td>3.8</td>\n",
       "      <td>0.0</td>\n",
       "      <td>0.0</td>\n",
       "      <td>0.0</td>\n",
       "    </tr>\n",
       "  </tbody>\n",
       "</table>\n",
       "<p>2075259 rows × 9 columns</p>\n",
       "</div>"
      ],
      "text/plain": [
       "               Date      Time Global_active_power Global_reactive_power  \\\n",
       "0        16/12/2006  17:24:00               4.216                 0.418   \n",
       "1        16/12/2006  17:25:00               5.360                 0.436   \n",
       "2        16/12/2006  17:26:00               5.374                 0.498   \n",
       "3        16/12/2006  17:27:00               5.388                 0.502   \n",
       "4        16/12/2006  17:28:00               3.666                 0.528   \n",
       "...             ...       ...                 ...                   ...   \n",
       "2075254  26/11/2010  20:58:00               0.946                   0.0   \n",
       "2075255  26/11/2010  20:59:00               0.944                   0.0   \n",
       "2075256  26/11/2010  21:00:00               0.938                   0.0   \n",
       "2075257  26/11/2010  21:01:00               0.934                   0.0   \n",
       "2075258  26/11/2010  21:02:00               0.932                   0.0   \n",
       "\n",
       "         Voltage Global_intensity Sub_metering_1 Sub_metering_2  \\\n",
       "0        234.840           18.400          0.000          1.000   \n",
       "1        233.630           23.000          0.000          1.000   \n",
       "2        233.290           23.000          0.000          2.000   \n",
       "3        233.740           23.000          0.000          1.000   \n",
       "4        235.680           15.800          0.000          1.000   \n",
       "...          ...              ...            ...            ...   \n",
       "2075254   240.43              4.0            0.0            0.0   \n",
       "2075255    240.0              4.0            0.0            0.0   \n",
       "2075256   239.82              3.8            0.0            0.0   \n",
       "2075257    239.7              3.8            0.0            0.0   \n",
       "2075258   239.55              3.8            0.0            0.0   \n",
       "\n",
       "         Sub_metering_3  \n",
       "0                  17.0  \n",
       "1                  16.0  \n",
       "2                  17.0  \n",
       "3                  17.0  \n",
       "4                  17.0  \n",
       "...                 ...  \n",
       "2075254             0.0  \n",
       "2075255             0.0  \n",
       "2075256             0.0  \n",
       "2075257             0.0  \n",
       "2075258             0.0  \n",
       "\n",
       "[2075259 rows x 9 columns]"
      ]
     },
     "execution_count": 24,
     "metadata": {},
     "output_type": "execute_result"
    }
   ],
   "source": [
    "data = pd.read_table(r\"C:\\Users\\Pragya\\Downloads\\individual+household+electric+power+consumption\\household_power_consumption.txt\",delimiter=\";\")\n",
    "data"
   ]
  },
  {
   "cell_type": "code",
   "execution_count": null,
   "id": "c4f27633-42c1-4e8d-a8e0-4c88edff3e5a",
   "metadata": {},
   "outputs": [],
   "source": []
  },
  {
   "cell_type": "code",
   "execution_count": null,
   "id": "6c496c25-f0cb-42a3-9354-b85c3cb4f754",
   "metadata": {},
   "outputs": [],
   "source": []
  },
  {
   "cell_type": "markdown",
   "id": "83d4a803-7512-4e4a-be09-34c738e12ecb",
   "metadata": {},
   "source": [
    "# EDA"
   ]
  },
  {
   "cell_type": "markdown",
   "id": "815609d6-e316-4aa4-9d99-d67c411b9c10",
   "metadata": {},
   "source": [
    "**1. HEAD**"
   ]
  },
  {
   "cell_type": "code",
   "execution_count": 26,
   "id": "d9e1b842-51d1-4a24-b582-9166e802f96a",
   "metadata": {},
   "outputs": [
    {
     "data": {
      "text/html": [
       "<div>\n",
       "<style scoped>\n",
       "    .dataframe tbody tr th:only-of-type {\n",
       "        vertical-align: middle;\n",
       "    }\n",
       "\n",
       "    .dataframe tbody tr th {\n",
       "        vertical-align: top;\n",
       "    }\n",
       "\n",
       "    .dataframe thead th {\n",
       "        text-align: right;\n",
       "    }\n",
       "</style>\n",
       "<table border=\"1\" class=\"dataframe\">\n",
       "  <thead>\n",
       "    <tr style=\"text-align: right;\">\n",
       "      <th></th>\n",
       "      <th>Date</th>\n",
       "      <th>Time</th>\n",
       "      <th>Global_active_power</th>\n",
       "      <th>Global_reactive_power</th>\n",
       "      <th>Voltage</th>\n",
       "      <th>Global_intensity</th>\n",
       "      <th>Sub_metering_1</th>\n",
       "      <th>Sub_metering_2</th>\n",
       "      <th>Sub_metering_3</th>\n",
       "    </tr>\n",
       "  </thead>\n",
       "  <tbody>\n",
       "    <tr>\n",
       "      <th>0</th>\n",
       "      <td>16/12/2006</td>\n",
       "      <td>17:24:00</td>\n",
       "      <td>4.216</td>\n",
       "      <td>0.418</td>\n",
       "      <td>234.840</td>\n",
       "      <td>18.400</td>\n",
       "      <td>0.000</td>\n",
       "      <td>1.000</td>\n",
       "      <td>17.0</td>\n",
       "    </tr>\n",
       "    <tr>\n",
       "      <th>1</th>\n",
       "      <td>16/12/2006</td>\n",
       "      <td>17:25:00</td>\n",
       "      <td>5.360</td>\n",
       "      <td>0.436</td>\n",
       "      <td>233.630</td>\n",
       "      <td>23.000</td>\n",
       "      <td>0.000</td>\n",
       "      <td>1.000</td>\n",
       "      <td>16.0</td>\n",
       "    </tr>\n",
       "    <tr>\n",
       "      <th>2</th>\n",
       "      <td>16/12/2006</td>\n",
       "      <td>17:26:00</td>\n",
       "      <td>5.374</td>\n",
       "      <td>0.498</td>\n",
       "      <td>233.290</td>\n",
       "      <td>23.000</td>\n",
       "      <td>0.000</td>\n",
       "      <td>2.000</td>\n",
       "      <td>17.0</td>\n",
       "    </tr>\n",
       "    <tr>\n",
       "      <th>3</th>\n",
       "      <td>16/12/2006</td>\n",
       "      <td>17:27:00</td>\n",
       "      <td>5.388</td>\n",
       "      <td>0.502</td>\n",
       "      <td>233.740</td>\n",
       "      <td>23.000</td>\n",
       "      <td>0.000</td>\n",
       "      <td>1.000</td>\n",
       "      <td>17.0</td>\n",
       "    </tr>\n",
       "    <tr>\n",
       "      <th>4</th>\n",
       "      <td>16/12/2006</td>\n",
       "      <td>17:28:00</td>\n",
       "      <td>3.666</td>\n",
       "      <td>0.528</td>\n",
       "      <td>235.680</td>\n",
       "      <td>15.800</td>\n",
       "      <td>0.000</td>\n",
       "      <td>1.000</td>\n",
       "      <td>17.0</td>\n",
       "    </tr>\n",
       "  </tbody>\n",
       "</table>\n",
       "</div>"
      ],
      "text/plain": [
       "         Date      Time Global_active_power Global_reactive_power  Voltage  \\\n",
       "0  16/12/2006  17:24:00               4.216                 0.418  234.840   \n",
       "1  16/12/2006  17:25:00               5.360                 0.436  233.630   \n",
       "2  16/12/2006  17:26:00               5.374                 0.498  233.290   \n",
       "3  16/12/2006  17:27:00               5.388                 0.502  233.740   \n",
       "4  16/12/2006  17:28:00               3.666                 0.528  235.680   \n",
       "\n",
       "  Global_intensity Sub_metering_1 Sub_metering_2  Sub_metering_3  \n",
       "0           18.400          0.000          1.000            17.0  \n",
       "1           23.000          0.000          1.000            16.0  \n",
       "2           23.000          0.000          2.000            17.0  \n",
       "3           23.000          0.000          1.000            17.0  \n",
       "4           15.800          0.000          1.000            17.0  "
      ]
     },
     "execution_count": 26,
     "metadata": {},
     "output_type": "execute_result"
    }
   ],
   "source": [
    "data.head()"
   ]
  },
  {
   "cell_type": "code",
   "execution_count": null,
   "id": "abdec389-5363-4aa5-99be-a7143e746c1d",
   "metadata": {},
   "outputs": [],
   "source": []
  },
  {
   "cell_type": "code",
   "execution_count": null,
   "id": "d61e7651-7bc4-4bdc-af8a-506b6d8cf5bd",
   "metadata": {},
   "outputs": [],
   "source": []
  },
  {
   "cell_type": "markdown",
   "id": "19d75110-54f0-449e-b848-338c5194506d",
   "metadata": {},
   "source": [
    "**2. SHAPE**"
   ]
  },
  {
   "cell_type": "code",
   "execution_count": 27,
   "id": "7683de50-234d-4e15-8f34-95c8a2b4b49a",
   "metadata": {},
   "outputs": [
    {
     "data": {
      "text/plain": [
       "(2075259, 9)"
      ]
     },
     "execution_count": 27,
     "metadata": {},
     "output_type": "execute_result"
    }
   ],
   "source": [
    "data.shape"
   ]
  },
  {
   "cell_type": "code",
   "execution_count": null,
   "id": "fdcdba7d-6159-411b-9fad-35458f1e1d58",
   "metadata": {},
   "outputs": [],
   "source": []
  },
  {
   "cell_type": "code",
   "execution_count": null,
   "id": "ac84a090-8a9f-4d24-8a4c-d5c95a9479c3",
   "metadata": {},
   "outputs": [],
   "source": []
  },
  {
   "cell_type": "markdown",
   "id": "8c9b111f-c5a9-41df-aafc-5a37778b259a",
   "metadata": {},
   "source": [
    "**3. COLUMNS**"
   ]
  },
  {
   "cell_type": "code",
   "execution_count": 28,
   "id": "4269fdf3-9760-41ce-8f2d-fd024c304c35",
   "metadata": {},
   "outputs": [
    {
     "data": {
      "text/plain": [
       "Index(['Date', 'Time', 'Global_active_power', 'Global_reactive_power',\n",
       "       'Voltage', 'Global_intensity', 'Sub_metering_1', 'Sub_metering_2',\n",
       "       'Sub_metering_3'],\n",
       "      dtype='object')"
      ]
     },
     "execution_count": 28,
     "metadata": {},
     "output_type": "execute_result"
    }
   ],
   "source": [
    "data.columns"
   ]
  },
  {
   "cell_type": "code",
   "execution_count": null,
   "id": "025ec521-aa10-40bb-9f04-d78b188ccd6b",
   "metadata": {},
   "outputs": [],
   "source": []
  },
  {
   "cell_type": "code",
   "execution_count": null,
   "id": "f5ca1bc6-951b-46ba-b709-2dc7fe4bffdb",
   "metadata": {},
   "outputs": [],
   "source": []
  },
  {
   "cell_type": "markdown",
   "id": "08c2aac3-781a-4dfe-835b-a26770d410c3",
   "metadata": {},
   "source": [
    "**4. DESCRIPTIVE STATISTICS**"
   ]
  },
  {
   "cell_type": "code",
   "execution_count": 29,
   "id": "a4a72e84-3b72-4898-8d60-2542aea9554a",
   "metadata": {},
   "outputs": [
    {
     "data": {
      "text/html": [
       "<div>\n",
       "<style scoped>\n",
       "    .dataframe tbody tr th:only-of-type {\n",
       "        vertical-align: middle;\n",
       "    }\n",
       "\n",
       "    .dataframe tbody tr th {\n",
       "        vertical-align: top;\n",
       "    }\n",
       "\n",
       "    .dataframe thead th {\n",
       "        text-align: right;\n",
       "    }\n",
       "</style>\n",
       "<table border=\"1\" class=\"dataframe\">\n",
       "  <thead>\n",
       "    <tr style=\"text-align: right;\">\n",
       "      <th></th>\n",
       "      <th>Sub_metering_3</th>\n",
       "    </tr>\n",
       "  </thead>\n",
       "  <tbody>\n",
       "    <tr>\n",
       "      <th>count</th>\n",
       "      <td>2.049280e+06</td>\n",
       "    </tr>\n",
       "    <tr>\n",
       "      <th>mean</th>\n",
       "      <td>6.458447e+00</td>\n",
       "    </tr>\n",
       "    <tr>\n",
       "      <th>std</th>\n",
       "      <td>8.437154e+00</td>\n",
       "    </tr>\n",
       "    <tr>\n",
       "      <th>min</th>\n",
       "      <td>0.000000e+00</td>\n",
       "    </tr>\n",
       "    <tr>\n",
       "      <th>25%</th>\n",
       "      <td>0.000000e+00</td>\n",
       "    </tr>\n",
       "    <tr>\n",
       "      <th>50%</th>\n",
       "      <td>1.000000e+00</td>\n",
       "    </tr>\n",
       "    <tr>\n",
       "      <th>75%</th>\n",
       "      <td>1.700000e+01</td>\n",
       "    </tr>\n",
       "    <tr>\n",
       "      <th>max</th>\n",
       "      <td>3.100000e+01</td>\n",
       "    </tr>\n",
       "  </tbody>\n",
       "</table>\n",
       "</div>"
      ],
      "text/plain": [
       "       Sub_metering_3\n",
       "count    2.049280e+06\n",
       "mean     6.458447e+00\n",
       "std      8.437154e+00\n",
       "min      0.000000e+00\n",
       "25%      0.000000e+00\n",
       "50%      1.000000e+00\n",
       "75%      1.700000e+01\n",
       "max      3.100000e+01"
      ]
     },
     "execution_count": 29,
     "metadata": {},
     "output_type": "execute_result"
    }
   ],
   "source": [
    "data.describe()"
   ]
  },
  {
   "cell_type": "code",
   "execution_count": null,
   "id": "a9b58598-0c4f-41a9-bb78-98efabd315da",
   "metadata": {},
   "outputs": [],
   "source": []
  },
  {
   "cell_type": "code",
   "execution_count": null,
   "id": "b5f62c7a-8de5-4941-8645-3b12cdecaad6",
   "metadata": {},
   "outputs": [],
   "source": []
  },
  {
   "cell_type": "code",
   "execution_count": 30,
   "id": "c791a0fb-05c9-47fa-88c1-4c4dc13472f8",
   "metadata": {},
   "outputs": [
    {
     "data": {
      "text/html": [
       "<div>\n",
       "<style scoped>\n",
       "    .dataframe tbody tr th:only-of-type {\n",
       "        vertical-align: middle;\n",
       "    }\n",
       "\n",
       "    .dataframe tbody tr th {\n",
       "        vertical-align: top;\n",
       "    }\n",
       "\n",
       "    .dataframe thead th {\n",
       "        text-align: right;\n",
       "    }\n",
       "</style>\n",
       "<table border=\"1\" class=\"dataframe\">\n",
       "  <thead>\n",
       "    <tr style=\"text-align: right;\">\n",
       "      <th></th>\n",
       "      <th>Date</th>\n",
       "      <th>Time</th>\n",
       "      <th>Global_active_power</th>\n",
       "      <th>Global_reactive_power</th>\n",
       "      <th>Voltage</th>\n",
       "      <th>Global_intensity</th>\n",
       "      <th>Sub_metering_1</th>\n",
       "      <th>Sub_metering_2</th>\n",
       "      <th>Sub_metering_3</th>\n",
       "    </tr>\n",
       "  </thead>\n",
       "  <tbody>\n",
       "    <tr>\n",
       "      <th>count</th>\n",
       "      <td>2075259</td>\n",
       "      <td>2075259</td>\n",
       "      <td>2075259</td>\n",
       "      <td>2075259</td>\n",
       "      <td>2075259</td>\n",
       "      <td>2075259</td>\n",
       "      <td>2075259</td>\n",
       "      <td>2075259</td>\n",
       "      <td>2.049280e+06</td>\n",
       "    </tr>\n",
       "    <tr>\n",
       "      <th>unique</th>\n",
       "      <td>1442</td>\n",
       "      <td>1440</td>\n",
       "      <td>6534</td>\n",
       "      <td>896</td>\n",
       "      <td>5168</td>\n",
       "      <td>377</td>\n",
       "      <td>153</td>\n",
       "      <td>145</td>\n",
       "      <td>NaN</td>\n",
       "    </tr>\n",
       "    <tr>\n",
       "      <th>top</th>\n",
       "      <td>6/12/2008</td>\n",
       "      <td>17:24:00</td>\n",
       "      <td>?</td>\n",
       "      <td>0.000</td>\n",
       "      <td>?</td>\n",
       "      <td>1.000</td>\n",
       "      <td>0.000</td>\n",
       "      <td>0.000</td>\n",
       "      <td>NaN</td>\n",
       "    </tr>\n",
       "    <tr>\n",
       "      <th>freq</th>\n",
       "      <td>1440</td>\n",
       "      <td>1442</td>\n",
       "      <td>25979</td>\n",
       "      <td>472786</td>\n",
       "      <td>25979</td>\n",
       "      <td>169406</td>\n",
       "      <td>1840611</td>\n",
       "      <td>1408274</td>\n",
       "      <td>NaN</td>\n",
       "    </tr>\n",
       "    <tr>\n",
       "      <th>mean</th>\n",
       "      <td>NaN</td>\n",
       "      <td>NaN</td>\n",
       "      <td>NaN</td>\n",
       "      <td>NaN</td>\n",
       "      <td>NaN</td>\n",
       "      <td>NaN</td>\n",
       "      <td>NaN</td>\n",
       "      <td>NaN</td>\n",
       "      <td>6.458447e+00</td>\n",
       "    </tr>\n",
       "    <tr>\n",
       "      <th>std</th>\n",
       "      <td>NaN</td>\n",
       "      <td>NaN</td>\n",
       "      <td>NaN</td>\n",
       "      <td>NaN</td>\n",
       "      <td>NaN</td>\n",
       "      <td>NaN</td>\n",
       "      <td>NaN</td>\n",
       "      <td>NaN</td>\n",
       "      <td>8.437154e+00</td>\n",
       "    </tr>\n",
       "    <tr>\n",
       "      <th>min</th>\n",
       "      <td>NaN</td>\n",
       "      <td>NaN</td>\n",
       "      <td>NaN</td>\n",
       "      <td>NaN</td>\n",
       "      <td>NaN</td>\n",
       "      <td>NaN</td>\n",
       "      <td>NaN</td>\n",
       "      <td>NaN</td>\n",
       "      <td>0.000000e+00</td>\n",
       "    </tr>\n",
       "    <tr>\n",
       "      <th>25%</th>\n",
       "      <td>NaN</td>\n",
       "      <td>NaN</td>\n",
       "      <td>NaN</td>\n",
       "      <td>NaN</td>\n",
       "      <td>NaN</td>\n",
       "      <td>NaN</td>\n",
       "      <td>NaN</td>\n",
       "      <td>NaN</td>\n",
       "      <td>0.000000e+00</td>\n",
       "    </tr>\n",
       "    <tr>\n",
       "      <th>50%</th>\n",
       "      <td>NaN</td>\n",
       "      <td>NaN</td>\n",
       "      <td>NaN</td>\n",
       "      <td>NaN</td>\n",
       "      <td>NaN</td>\n",
       "      <td>NaN</td>\n",
       "      <td>NaN</td>\n",
       "      <td>NaN</td>\n",
       "      <td>1.000000e+00</td>\n",
       "    </tr>\n",
       "    <tr>\n",
       "      <th>75%</th>\n",
       "      <td>NaN</td>\n",
       "      <td>NaN</td>\n",
       "      <td>NaN</td>\n",
       "      <td>NaN</td>\n",
       "      <td>NaN</td>\n",
       "      <td>NaN</td>\n",
       "      <td>NaN</td>\n",
       "      <td>NaN</td>\n",
       "      <td>1.700000e+01</td>\n",
       "    </tr>\n",
       "    <tr>\n",
       "      <th>max</th>\n",
       "      <td>NaN</td>\n",
       "      <td>NaN</td>\n",
       "      <td>NaN</td>\n",
       "      <td>NaN</td>\n",
       "      <td>NaN</td>\n",
       "      <td>NaN</td>\n",
       "      <td>NaN</td>\n",
       "      <td>NaN</td>\n",
       "      <td>3.100000e+01</td>\n",
       "    </tr>\n",
       "  </tbody>\n",
       "</table>\n",
       "</div>"
      ],
      "text/plain": [
       "             Date      Time Global_active_power Global_reactive_power  \\\n",
       "count     2075259   2075259             2075259               2075259   \n",
       "unique       1442      1440                6534                   896   \n",
       "top     6/12/2008  17:24:00                   ?                 0.000   \n",
       "freq         1440      1442               25979                472786   \n",
       "mean          NaN       NaN                 NaN                   NaN   \n",
       "std           NaN       NaN                 NaN                   NaN   \n",
       "min           NaN       NaN                 NaN                   NaN   \n",
       "25%           NaN       NaN                 NaN                   NaN   \n",
       "50%           NaN       NaN                 NaN                   NaN   \n",
       "75%           NaN       NaN                 NaN                   NaN   \n",
       "max           NaN       NaN                 NaN                   NaN   \n",
       "\n",
       "        Voltage Global_intensity Sub_metering_1 Sub_metering_2  Sub_metering_3  \n",
       "count   2075259          2075259        2075259        2075259    2.049280e+06  \n",
       "unique     5168              377            153            145             NaN  \n",
       "top           ?            1.000          0.000          0.000             NaN  \n",
       "freq      25979           169406        1840611        1408274             NaN  \n",
       "mean        NaN              NaN            NaN            NaN    6.458447e+00  \n",
       "std         NaN              NaN            NaN            NaN    8.437154e+00  \n",
       "min         NaN              NaN            NaN            NaN    0.000000e+00  \n",
       "25%         NaN              NaN            NaN            NaN    0.000000e+00  \n",
       "50%         NaN              NaN            NaN            NaN    1.000000e+00  \n",
       "75%         NaN              NaN            NaN            NaN    1.700000e+01  \n",
       "max         NaN              NaN            NaN            NaN    3.100000e+01  "
      ]
     },
     "execution_count": 30,
     "metadata": {},
     "output_type": "execute_result"
    }
   ],
   "source": [
    "data.describe(include=\"all\")"
   ]
  },
  {
   "cell_type": "code",
   "execution_count": null,
   "id": "d799af60-611e-4d6a-a7cd-4dad6d32f30a",
   "metadata": {},
   "outputs": [],
   "source": []
  },
  {
   "cell_type": "code",
   "execution_count": null,
   "id": "b9712ecc-31ab-4ac6-b0d2-f8c56666613a",
   "metadata": {},
   "outputs": [],
   "source": []
  },
  {
   "cell_type": "markdown",
   "id": "71bd53d6-de90-4a5f-a51c-9382be4e0e3f",
   "metadata": {},
   "source": [
    "**5. INFO**"
   ]
  },
  {
   "cell_type": "code",
   "execution_count": 31,
   "id": "d843bd0a-6dca-440c-b61b-962248238364",
   "metadata": {},
   "outputs": [
    {
     "name": "stdout",
     "output_type": "stream",
     "text": [
      "<class 'pandas.core.frame.DataFrame'>\n",
      "RangeIndex: 2075259 entries, 0 to 2075258\n",
      "Data columns (total 9 columns):\n",
      " #   Column                 Dtype  \n",
      "---  ------                 -----  \n",
      " 0   Date                   object \n",
      " 1   Time                   object \n",
      " 2   Global_active_power    object \n",
      " 3   Global_reactive_power  object \n",
      " 4   Voltage                object \n",
      " 5   Global_intensity       object \n",
      " 6   Sub_metering_1         object \n",
      " 7   Sub_metering_2         object \n",
      " 8   Sub_metering_3         float64\n",
      "dtypes: float64(1), object(8)\n",
      "memory usage: 142.5+ MB\n"
     ]
    }
   ],
   "source": [
    "data.info()"
   ]
  },
  {
   "cell_type": "code",
   "execution_count": null,
   "id": "fd670b96-ddc9-4267-876a-848d250fbcec",
   "metadata": {},
   "outputs": [],
   "source": []
  },
  {
   "cell_type": "code",
   "execution_count": null,
   "id": "06013e11-7e10-45e7-ba66-d88470b68ad0",
   "metadata": {},
   "outputs": [],
   "source": []
  },
  {
   "cell_type": "markdown",
   "id": "a465a84e-dd31-4daf-8e8a-45b2c3f6f6e1",
   "metadata": {},
   "source": [
    "**6. DUPLICATE VALUES**"
   ]
  },
  {
   "cell_type": "code",
   "execution_count": 33,
   "id": "944f6720-35b1-4298-9c54-78e85b531d0f",
   "metadata": {},
   "outputs": [
    {
     "data": {
      "text/plain": [
       "0"
      ]
     },
     "execution_count": 33,
     "metadata": {},
     "output_type": "execute_result"
    }
   ],
   "source": [
    "data.duplicated().sum()"
   ]
  },
  {
   "cell_type": "code",
   "execution_count": null,
   "id": "44da2765-7567-4c5f-8fc3-ec112a2267d2",
   "metadata": {},
   "outputs": [],
   "source": []
  },
  {
   "cell_type": "code",
   "execution_count": null,
   "id": "1cf08dcb-16e3-434c-a2b3-c4b5f4bab7d8",
   "metadata": {},
   "outputs": [],
   "source": []
  },
  {
   "cell_type": "markdown",
   "id": "5757648f-22e5-4887-8149-1eaac1f92910",
   "metadata": {},
   "source": [
    "**7. MISSING VALUES**"
   ]
  },
  {
   "cell_type": "code",
   "execution_count": 34,
   "id": "7876f89b-3e4c-47e4-9b4b-f6fc4e8c6130",
   "metadata": {},
   "outputs": [
    {
     "data": {
      "text/plain": [
       "Date                         0\n",
       "Time                         0\n",
       "Global_active_power          0\n",
       "Global_reactive_power        0\n",
       "Voltage                      0\n",
       "Global_intensity             0\n",
       "Sub_metering_1               0\n",
       "Sub_metering_2               0\n",
       "Sub_metering_3           25979\n",
       "dtype: int64"
      ]
     },
     "execution_count": 34,
     "metadata": {},
     "output_type": "execute_result"
    }
   ],
   "source": [
    "data.isnull().sum()"
   ]
  },
  {
   "cell_type": "code",
   "execution_count": null,
   "id": "91c0e40a-570a-429b-b8ab-ac2c4abba4ca",
   "metadata": {},
   "outputs": [],
   "source": []
  },
  {
   "cell_type": "code",
   "execution_count": null,
   "id": "7c0608e9-4dea-41d5-945e-f3dbb4b43a2f",
   "metadata": {},
   "outputs": [],
   "source": []
  },
  {
   "cell_type": "markdown",
   "id": "cba8d5a8-4519-4fba-a0eb-facb5a61d375",
   "metadata": {},
   "source": [
    "**8. CHECKING TIME RANGE**"
   ]
  },
  {
   "cell_type": "code",
   "execution_count": 6,
   "id": "15b56832-32af-4b16-af76-9dbb15ff0093",
   "metadata": {},
   "outputs": [
    {
     "data": {
      "text/plain": [
       "('9/9/2010', '1/1/2007')"
      ]
     },
     "execution_count": 6,
     "metadata": {},
     "output_type": "execute_result"
    }
   ],
   "source": [
    "data['Date'].max(),data['Date'].min()"
   ]
  },
  {
   "cell_type": "code",
   "execution_count": null,
   "id": "af27c52f-0a8f-48e5-9853-aa1c78528f70",
   "metadata": {},
   "outputs": [],
   "source": []
  },
  {
   "cell_type": "code",
   "execution_count": null,
   "id": "c3f3d3ba-b367-4f41-b60d-dd741caa27f3",
   "metadata": {},
   "outputs": [],
   "source": []
  },
  {
   "cell_type": "markdown",
   "id": "ce6a957d-66a7-4947-98ce-11fdd8614983",
   "metadata": {},
   "source": [
    "**9. DATATYPE**"
   ]
  },
  {
   "cell_type": "code",
   "execution_count": 35,
   "id": "157162d2-962a-4210-9c45-d47172efdffc",
   "metadata": {},
   "outputs": [
    {
     "data": {
      "text/plain": [
       "Date                      object\n",
       "Time                      object\n",
       "Global_active_power       object\n",
       "Global_reactive_power     object\n",
       "Voltage                   object\n",
       "Global_intensity          object\n",
       "Sub_metering_1            object\n",
       "Sub_metering_2            object\n",
       "Sub_metering_3           float64\n",
       "dtype: object"
      ]
     },
     "execution_count": 35,
     "metadata": {},
     "output_type": "execute_result"
    }
   ],
   "source": [
    "data.dtypes"
   ]
  },
  {
   "cell_type": "code",
   "execution_count": null,
   "id": "f6a6e81e-5040-47c2-9d1c-c97223f40ee6",
   "metadata": {},
   "outputs": [],
   "source": []
  },
  {
   "cell_type": "code",
   "execution_count": null,
   "id": "5f15787e-d0ab-44a5-864e-c61f5c30fc7f",
   "metadata": {},
   "outputs": [],
   "source": []
  },
  {
   "cell_type": "markdown",
   "id": "b131f6b6-8630-43b0-9e1b-b8b41dcb2337",
   "metadata": {},
   "source": [
    "**10. ANAMOLY DETECTION**"
   ]
  },
  {
   "cell_type": "code",
   "execution_count": 36,
   "id": "3b706225-7754-4e0d-a7e5-b8d4fe4369ab",
   "metadata": {},
   "outputs": [
    {
     "name": "stdout",
     "output_type": "stream",
     "text": [
      "{'Date': array(['16/12/2006', '17/12/2006', '18/12/2006', ..., '24/11/2010',\n",
      "       '25/11/2010', '26/11/2010'], dtype=object)}\n",
      "{'Time': array(['17:24:00', '17:25:00', '17:26:00', ..., '17:21:00', '17:22:00',\n",
      "       '17:23:00'], dtype=object)}\n",
      "{'Global_active_power': array(['4.216', '5.360', '5.374', ..., 4.068, 3.94, 3.74], dtype=object)}\n",
      "{'Global_reactive_power': array(['0.418', '0.436', '0.498', '0.502', '0.528', '0.522', '0.520',\n",
      "       '0.510', '0.470', '0.478', '0.398', '0.422', '0.282', '0.152',\n",
      "       '0.156', '0.000', '0.076', '0.090', '0.200', '0.058', '0.180',\n",
      "       '0.144', '0.118', '0.108', '0.202', '0.192', '0.186', '0.116',\n",
      "       '0.136', '0.148', '0.160', '0.158', '0.100', '0.082', '0.050',\n",
      "       '0.052', '0.162', '0.086', '0.048', '0.054', '0.068', '0.166',\n",
      "       '0.174', '0.178', '0.188', '0.088', '0.080', '0.070', '0.084',\n",
      "       '0.074', '0.106', '0.092', '0.064', '0.046', '0.138', '0.134',\n",
      "       '0.132', '0.120', '0.130', '0.154', '0.078', '0.142', '0.140',\n",
      "       '0.146', '0.150', '0.170', '0.102', '0.072', '0.060', '0.056',\n",
      "       '0.062', '0.112', '0.066', '0.172', '0.168', '0.194', '0.184',\n",
      "       '0.096', '0.164', '0.182', '0.094', '0.098', '0.176', '0.190',\n",
      "       '0.204', '0.220', '0.198', '0.208', '0.244', '0.334', '0.298',\n",
      "       '0.296', '0.286', '0.278', '0.104', '0.258', '0.238', '0.256',\n",
      "       '0.214', '0.230', '0.210', '0.240', '0.124', '0.122', '0.270',\n",
      "       '0.302', '0.272', '0.250', '0.294', '0.300', '0.128', '0.126',\n",
      "       '0.234', '0.242', '0.316', '0.280', '0.288', '0.224', '0.110',\n",
      "       '0.248', '0.254', '0.222', '0.246', '0.216', '0.212', '0.114',\n",
      "       '0.206', '0.228', '0.226', '0.196', '0.218', '0.368', '0.338',\n",
      "       '0.310', '0.304', '0.292', '0.268', '0.266', '0.260', '0.396',\n",
      "       '0.380', '0.400', '0.384', '0.416', '0.404', '0.382', '0.232',\n",
      "       '0.314', '0.312', '0.262', '0.252', '0.236', '0.348', '0.342',\n",
      "       '0.340', '0.350', '0.504', '0.344', '0.346', '0.366', '0.574',\n",
      "       '0.582', '0.370', '0.364', '0.360', '0.362', '0.372', '0.392',\n",
      "       '0.354', '0.356', '0.358', '0.402', '0.394', '0.390', '0.386',\n",
      "       '0.274', '0.264', '0.324', '0.352', '0.276', '0.306', '0.376',\n",
      "       '0.562', '0.440', '0.378', '0.426', '0.450', '0.374', '0.388',\n",
      "       '0.284', '0.290', '0.308', '0.318', '0.320', '0.322', '0.326',\n",
      "       '0.336', '0.414', '0.408', '0.472', '0.464', '0.462', '0.578',\n",
      "       '0.576', '0.580', '0.474', '0.514', '0.646', '0.636', '0.598',\n",
      "       '0.586', '0.566', '0.406', '0.430', '0.412', '0.442', '0.452',\n",
      "       '0.432', '0.330', '0.328', '0.538', '0.564', '0.552', '0.556',\n",
      "       '0.606', '0.424', '0.492', '0.526', '0.512', '0.482', '0.446',\n",
      "       '0.332', '?', '0.548', '0.534', '0.532', '0.688', '0.664', '0.660',\n",
      "       '0.530', '0.516', '0.572', '0.540', '0.614', '0.568', '0.444',\n",
      "       '0.456', '0.448', '0.480', '0.434', '0.438', '0.494', '0.496',\n",
      "       '0.468', '0.560', '0.622', '0.570', '0.618', '0.624', '0.466',\n",
      "       '0.420', '0.500', '0.602', '0.632', '0.724', '0.706', '0.484',\n",
      "       '0.458', '0.428', '0.486', '0.698', '0.708', '0.686', '0.666',\n",
      "       '0.658', '0.490', '0.454', '0.640', '0.590', '0.524', '0.634',\n",
      "       '0.476', '0.694', '0.700', '0.794', '0.592', '0.460', '0.656',\n",
      "       '0.644', '0.488', '0.410', '0.550', '0.616', '0.800', '0.790',\n",
      "       '0.788', '0.670', '0.506', '0.600', '0.680', '0.678', '0.682',\n",
      "       '0.690', '0.508', '0.604', '0.608', '0.554', '0.518', '0.650',\n",
      "       '0.648', '0.642', '0.654', '0.754', '0.750', '0.742', '0.594',\n",
      "       '0.536', '0.544', '0.630', '0.542', '0.672', '0.588', '0.596',\n",
      "       '0.584', '0.674', '0.726', '0.768', '0.774', '0.712', '0.856',\n",
      "       '0.862', '0.848', '0.730', '0.710', '0.662', '0.722', '0.704',\n",
      "       '0.546', '0.638', '0.628', '0.620', '0.716', '0.778', '0.702',\n",
      "       '0.676', '0.834', '0.802', '0.772', '0.558', '0.626', '0.652',\n",
      "       '0.760', '0.780', '0.784', '0.786', '0.792', '0.782', '0.832',\n",
      "       '0.842', '0.744', '0.822', '0.612', '0.692', '0.684', '0.874',\n",
      "       '0.804', '0.696', '0.610', '0.718', '0.732', '0.720', '0.748',\n",
      "       '0.796', '0.736', '0.820', '0.808', '0.756', '0.776', '0.806',\n",
      "       '0.764', '0.818', '0.770', '0.758', '0.858', '0.860', '0.850',\n",
      "       '0.752', '0.714', '0.840', '0.830', '0.838', '0.738', '0.828',\n",
      "       '0.740', '0.746', '0.988', '0.966', '0.960', '0.956', '0.854',\n",
      "       '0.912', '0.734', '0.728', '0.826', '0.880', '0.878', '0.876',\n",
      "       '0.930', '0.986', '0.972', '0.946', '0.902', '1.046', '1.148',\n",
      "       '1.054', '0.890', '0.668', '1.092', '0.996', '0.974', '1.040',\n",
      "       '1.060', '1.028', '0.908', '0.898', '0.950', '0.964', '0.940',\n",
      "       '0.928', '0.896', '0.868', '0.870', '0.866', '0.864', '0.872',\n",
      "       '0.812', '0.836', '0.824', '0.814', '0.762', '0.994', '1.032',\n",
      "       '0.816', '0.944', '0.968', '0.916', '1.014', '1.008', '1.002',\n",
      "       '0.810', '1.000', '1.006', '1.012', '1.034', '0.852', '0.924',\n",
      "       '0.942', '0.982', '0.906', '0.932', '0.914', '0.846', '0.844',\n",
      "       '1.222', '1.190', '1.180', '1.118', '1.082', '1.080', '0.910',\n",
      "       '1.102', '1.274', '1.364', '1.390', '0.918', '1.198', '1.192',\n",
      "       '0.936', '0.954', '0.980', '0.990', '0.904', '0.798', '0.766',\n",
      "       '1.090', '1.016', '0.922', '1.036', '0.892', '0.894', '0.900',\n",
      "       '0.886', '1.096', '0.920', '0.962', '0.958', '0.998', '1.044',\n",
      "       '1.048', '0.938', '0.934', '1.130', '1.218', '0.888', '0.882',\n",
      "       '1.156', '1.024', '1.088', '1.084', '1.076', '1.066', '1.070',\n",
      "       '1.240', '0.926', '0.952', '0.884', '1.186', '1.108', '1.030',\n",
      "       '1.020', '0.978', '0.970', '0.948', '1.064', '1.078', '1.074',\n",
      "       '1.124', '1.018', '0.976', '1.038', '1.094', '1.100', '1.026', 0.0,\n",
      "       0.084, 0.086, 0.088, 0.082, 0.07, 0.062, 0.064, 0.06, 0.066, 0.046,\n",
      "       0.076, 0.078, 0.048, 0.08, 0.068, 0.072, 0.16, 0.188, 0.102, 0.216,\n",
      "       0.214, 0.212, 0.094, 0.058, 0.334, 0.408, 0.4, 0.47, 0.56, 0.634,\n",
      "       0.638, 0.64, 0.65, 0.656, 0.574, 0.242, 0.232, 0.23, 0.15, 0.074,\n",
      "       0.22, 0.278, 0.322, 0.32, 0.324, 0.254, 0.204, 0.154, 0.218, 0.112,\n",
      "       0.2, 0.196, 0.126, 0.056, 0.05, 0.052, 0.092, 0.09, 0.054, 0.114,\n",
      "       0.116, 0.11, 0.108, 0.104, 0.1, 0.106, 0.096, 0.098, 0.146, 0.332,\n",
      "       0.314, 0.236, 0.54, 0.466, 0.458, 0.424, 0.33, 0.328, 0.318, 0.298,\n",
      "       0.302, 0.306, 0.3, 0.29, 0.198, 0.206, 0.122, 0.21, 0.24, 0.312,\n",
      "       0.31, 0.316, 0.296, 0.19, 0.194, 0.144, 0.304, 0.398, 0.454, 0.444,\n",
      "       0.376, 0.374, 0.378, 0.294, 0.138, 0.336, 0.342, 0.34, 0.338,\n",
      "       0.244, 0.228, 0.234, 0.222, 0.308, 0.286, 0.202, 0.208, 0.17,\n",
      "       0.136, 0.266, 0.264, 0.268, 0.256, 0.26, 0.262, 0.258, 0.25, 0.18,\n",
      "       0.134, 0.284, 0.344, 0.348, 0.174, 0.248, 0.246, 0.238, 0.226,\n",
      "       0.164, 0.224, 0.184, 0.142, 0.132, 0.128, 0.148, 0.13, 0.124, 0.12,\n",
      "       0.158, 0.252, 0.272, 0.192, 0.182, 0.288, 0.382, 0.166, 0.162,\n",
      "       0.118, 0.186, 0.406, 0.478, 0.156, 0.14, 0.152, 0.326, 0.366, 0.5,\n",
      "       0.506, 0.514, 0.518, 0.524, 0.52, 0.528, 0.526, 0.522, 0.178,\n",
      "       0.176, 0.168, 0.172, 0.422, 0.556, 0.492, 0.426, 0.558, 0.776,\n",
      "       0.87, 0.83, 0.744, 0.486, 0.396, 0.362, 0.356, 0.358, 0.372, 0.37,\n",
      "       0.276, 0.274, 0.282, 0.27, 0.412, 0.472, 0.438, 0.434, 0.436,\n",
      "       0.428, 0.364, 0.414, 0.55, 0.652, 0.646, 0.644, 0.648, 0.554,\n",
      "       0.392, 0.368, 0.354, 0.394, 0.39, 0.292, 0.826, 0.912, 0.9, 1.012,\n",
      "       0.442, 0.828, 0.956, 0.914, 1.066, 1.108, 0.894, 0.844, 0.758,\n",
      "       0.756, 0.468, 0.72, 0.738, 0.734, 0.552, 0.534, 0.388, 0.474,\n",
      "       0.622, 0.642, 0.624, 0.626, 0.35, 0.494, 0.46, 0.38, 0.36, 0.548,\n",
      "       0.542, 0.546, 0.544, 0.504, 0.41, 0.402, 0.28, 0.416, 0.432, 0.43,\n",
      "       0.564, 0.404, 0.456, 0.464, 0.532, 0.6, 0.598, 0.576, 0.578, 0.582,\n",
      "       0.462, 0.476, 0.508, 0.352, 0.512, 0.51, 0.516, 0.418, 0.42, 0.536,\n",
      "       0.384, 0.452, 0.448, 0.45, 0.386, 0.346, 0.572, 0.654, 0.662,\n",
      "       0.658, 0.664, 0.668, 0.636, 0.606, 0.77, 0.618, 0.82, 0.818, 0.71,\n",
      "       0.588, 0.58, 0.584, 0.496, 0.502, 0.482, 0.48, 0.498, 0.488, 0.632,\n",
      "       0.484, 0.568, 0.566, 0.614, 0.66, 0.762, 0.764, 0.628, 0.604,\n",
      "       0.686, 0.7, 0.698, 0.704, 0.49, 0.84, 0.834, 0.726, 0.716, 0.708,\n",
      "       0.706, 0.712, 0.44, 0.538, 0.732, 0.674, 0.562, 0.666, 0.586, 0.67,\n",
      "       0.672, 0.728, 0.74, 0.62, 0.79, 0.592, 0.57, 0.602, 0.722, 0.724,\n",
      "       0.68, 0.59, 0.594, 0.808, 0.802, 0.772, 0.446, 0.684, 0.678, 0.796,\n",
      "       0.798, 0.696, 0.692, 0.69], dtype=object)}\n",
      "{'Voltage': array(['234.840', '233.630', '233.290', ..., 228.57, 229.09, 230.31],\n",
      "      dtype=object)}\n",
      "{'Global_intensity': array(['18.400', '23.000', '15.800', '15.000', '19.600', '23.200',\n",
      "       '22.400', '22.600', '17.600', '14.200', '13.800', '14.400',\n",
      "       '16.400', '25.400', '33.200', '30.600', '22.000', '19.400',\n",
      "       '13.600', '13.400', '11.600', '19.200', '10.400', '11.800',\n",
      "       '11.000', '21.000', '26.200', '29.000', '27.800', '27.000',\n",
      "       '19.000', '9.600', '10.000', '21.400', '17.800', '12.000',\n",
      "       '12.400', '15.200', '20.800', '15.600', '26.400', '18.800',\n",
      "       '13.000', '9.800', '9.200', '13.200', '18.000', '10.800', '10.600',\n",
      "       '18.200', '17.000', '17.400', '14.800', '14.600', '15.400',\n",
      "       '14.000', '8.400', '9.400', '7.800', '8.200', '8.600', '11.400',\n",
      "       '12.600', '9.000', '7.600', '12.800', '7.400', '5.600', '4.600',\n",
      "       '7.200', '1.600', '2.400', '2.800', '1.200', '4.400', '4.000',\n",
      "       '10.200', '6.800', '5.200', '6.000', '6.600', '8.000', '2.000',\n",
      "       '4.800', '5.400', '16.600', '3.000', '1.800', '8.800', '1.400',\n",
      "       '21.800', '20.200', '16.000', '18.600', '16.800', '11.200',\n",
      "       '2.600', '16.200', '4.200', '7.000', '3.800', '3.200', '5.000',\n",
      "       '3.600', '0.800', '5.800', '1.000', '6.400', '6.200', '3.400',\n",
      "       '2.200', '12.200', '30.000', '29.400', '28.200', '25.800',\n",
      "       '20.000', '24.800', '24.600', '25.200', '25.000', '23.400',\n",
      "       '23.800', '20.600', '21.600', '19.800', '20.400', '26.600',\n",
      "       '17.200', '21.200', '23.600', '29.200', '33.600', '28.000',\n",
      "       '30.200', '33.400', '24.200', '24.000', '22.200', '24.400',\n",
      "       '22.800', '?', '30.400', '34.200', '32.800', '33.000', '32.600',\n",
      "       '31.600', '28.600', '25.600', '31.000', '28.400', '27.200',\n",
      "       '29.800', '29.600', '37.000', '36.800', '32.400', '27.400',\n",
      "       '35.000', '34.800', '32.200', '26.000', '35.200', '36.200',\n",
      "       '27.600', '26.800', '34.400', '31.400', '30.800', '31.200',\n",
      "       '39.000', '39.200', '39.400', '28.800', '38.800', '35.600',\n",
      "       '32.000', '33.800', '36.000', '37.200', '34.000', '31.800',\n",
      "       '36.600', '40.400', '37.400', '38.200', '36.400', '35.400',\n",
      "       '34.600', '35.800', '38.000', '40.200', '41.000', '41.400',\n",
      "       '41.200', '41.800', '38.600', '44.400', '46.400', '43.200',\n",
      "       '39.800', '40.800', '0.600', '0.400', '37.800', '40.600', '38.400',\n",
      "       '42.000', '42.200', '39.600', '42.600', '44.200', '37.600',\n",
      "       '40.000', '0.200', '44.600', '43.400', '43.000', '45.800',\n",
      "       '48.400', 2.6, 2.4, 2.2, 1.6, 1.4, 1.8, 2.0, 4.0, 4.4, 5.0, 5.4,\n",
      "       5.6, 5.8, 2.8, 3.0, 3.2, 6.0, 6.2, 6.4, 6.6, 3.4, 7.8, 7.4, 8.0,\n",
      "       4.2, 1.2, 1.0, 13.6, 15.6, 9.0, 3.8, 4.8, 4.6, 3.6, 7.0, 6.8, 11.8,\n",
      "       10.8, 10.2, 10.4, 10.6, 10.0, 9.8, 8.4, 8.2, 8.6, 9.4, 11.0, 11.2,\n",
      "       11.6, 7.2, 8.8, 9.2, 7.6, 16.6, 16.2, 15.8, 9.6, 15.4, 14.2, 18.6,\n",
      "       18.8, 16.0, 16.4, 11.4, 12.0, 14.8, 13.2, 14.0, 19.0, 22.4, 22.2,\n",
      "       20.6, 14.6, 13.4, 12.2, 12.4, 12.6, 13.8, 12.8, 14.4, 15.2, 5.2,\n",
      "       17.0, 17.8, 21.6, 15.0, 20.8, 17.2, 16.8, 13.0, 19.2, 21.4, 19.8,\n",
      "       19.4, 20.0, 18.0, 17.6, 18.4, 20.4, 20.2, 21.0, 19.6, 22.0, 23.4,\n",
      "       24.6, 24.8, 25.8, 25.0, 25.2, 25.4, 26.4, 34.0, 33.8, 33.0, 23.6,\n",
      "       25.6, 24.4, 17.4, 23.8, 24.2, 18.2, 21.2, 23.0, 27.8, 28.8, 22.8,\n",
      "       26.8, 21.8, 22.6, 26.6, 27.0, 28.0, 28.2, 24.0, 29.4, 31.6, 33.2,\n",
      "       30.4, 30.6, 31.0, 37.2, 43.0, 42.8, 38.2, 27.2, 29.2, 30.2, 29.6,\n",
      "       27.6, 30.0, 29.0, 28.4, 27.4, 23.2, 26.0], dtype=object)}\n",
      "{'Sub_metering_1': array(['0.000', '1.000', '2.000', '6.000', '37.000', '36.000', '38.000',\n",
      "       '25.000', '12.000', '11.000', '9.000', '4.000', '33.000', '5.000',\n",
      "       '34.000', '8.000', '26.000', '27.000', '15.000', '20.000',\n",
      "       '21.000', '23.000', '16.000', '10.000', '39.000', '32.000', '?',\n",
      "       '19.000', '35.000', '30.000', '40.000', '7.000', '31.000',\n",
      "       '17.000', '3.000', '29.000', '24.000', '14.000', '41.000',\n",
      "       '53.000', '76.000', '75.000', '77.000', '74.000', '28.000',\n",
      "       '68.000', '58.000', '62.000', '13.000', '18.000', '22.000',\n",
      "       '64.000', '71.000', '56.000', '72.000', '45.000', '42.000',\n",
      "       '59.000', '66.000', '43.000', '44.000', '48.000', '46.000',\n",
      "       '73.000', '55.000', '60.000', '70.000', '63.000', '67.000',\n",
      "       '47.000', '65.000', '51.000', '50.000', '69.000', '78.000',\n",
      "       '57.000', '49.000', '61.000', '52.000', '54.000', '79.000',\n",
      "       '80.000', '81.000', '82.000', '83.000', '84.000', '88.000',\n",
      "       '86.000', '87.000', 0.0, 1.0, 2.0, 40.0, 39.0, 9.0, 10.0, 34.0,\n",
      "       25.0, 38.0, 37.0, 23.0, 33.0, 32.0, 27.0, 24.0, 22.0, 21.0, 20.0,\n",
      "       18.0, 19.0, 13.0, 31.0, 29.0, 17.0, 16.0, 15.0, 14.0, 3.0, 42.0,\n",
      "       12.0, 28.0, 36.0, 47.0, 48.0, 5.0, 35.0, 4.0, 6.0, 11.0, 53.0,\n",
      "       54.0, 52.0, 43.0, 63.0, 76.0, 80.0, 81.0, 72.0, 60.0, 79.0, 70.0,\n",
      "       45.0, 30.0, 44.0, 46.0, 8.0, 26.0, 49.0, 7.0, 51.0, 41.0, 50.0,\n",
      "       57.0], dtype=object)}\n",
      "{'Sub_metering_2': array(['1.000', '2.000', '0.000', '16.000', '37.000', '36.000', '22.000',\n",
      "       '12.000', '27.000', '20.000', '9.000', '4.000', '3.000', '5.000',\n",
      "       '13.000', '35.000', '28.000', '26.000', '24.000', '21.000',\n",
      "       '17.000', '33.000', '25.000', '23.000', '18.000', '30.000',\n",
      "       '31.000', '7.000', '38.000', '29.000', '50.000', '71.000',\n",
      "       '59.000', '62.000', '70.000', '40.000', '34.000', '8.000',\n",
      "       '15.000', '6.000', '32.000', '19.000', '14.000', '49.000',\n",
      "       '72.000', '73.000', '61.000', '39.000', '42.000', '10.000',\n",
      "       '56.000', '11.000', '?', '43.000', '67.000', '63.000', '53.000',\n",
      "       '65.000', '52.000', '69.000', '48.000', '74.000', '41.000',\n",
      "       '47.000', '58.000', '68.000', '64.000', '75.000', '46.000',\n",
      "       '57.000', '60.000', '66.000', '44.000', '78.000', '77.000',\n",
      "       '76.000', '51.000', '55.000', '45.000', '54.000', '79.000',\n",
      "       '80.000', 0.0, 1.0, 2.0, 36.0, 40.0, 39.0, 41.0, 23.0, 10.0, 6.0,\n",
      "       5.0, 18.0, 37.0, 28.0, 38.0, 9.0, 13.0, 26.0, 31.0, 30.0, 24.0,\n",
      "       4.0, 3.0, 16.0, 32.0, 12.0, 35.0, 56.0, 64.0, 73.0, 72.0, 74.0,\n",
      "       75.0, 71.0, 21.0, 8.0, 20.0, 7.0, 33.0, 34.0, 60.0, 22.0, 19.0,\n",
      "       42.0, 43.0, 69.0, 49.0, 27.0, 65.0, 62.0, 25.0, 17.0, 11.0, 70.0,\n",
      "       63.0, 29.0, 54.0, 61.0, 68.0, 66.0, 67.0, 51.0, 15.0], dtype=object)}\n",
      "{'Sub_metering_3': array([17., 16., 18.,  9.,  0.,  5., 19., 10., 20.,  8.,  4.,  2.,  3.,\n",
      "       11., 13.,  6., 15., nan, 12.,  1., 14.,  7., 23., 25., 26., 28.,\n",
      "       27., 21., 22., 29., 24., 30., 31.])}\n"
     ]
    }
   ],
   "source": [
    "for i in data.columns:\n",
    "    print({i:data[i].unique()})"
   ]
  },
  {
   "cell_type": "code",
   "execution_count": null,
   "id": "64f9d229-24b7-4710-92dd-23f7a77af32d",
   "metadata": {},
   "outputs": [],
   "source": []
  },
  {
   "cell_type": "code",
   "execution_count": null,
   "id": "1370ba2c-29c4-4c9c-970b-a494df6950f9",
   "metadata": {},
   "outputs": [],
   "source": []
  },
  {
   "cell_type": "markdown",
   "id": "d8d9b979-e4ef-4663-9993-8f7fd4d0e4f9",
   "metadata": {},
   "source": [
    "# DATA PREPROCESSING"
   ]
  },
  {
   "cell_type": "markdown",
   "id": "e8586527-9f4c-4777-a5a0-5016461b30ce",
   "metadata": {},
   "source": [
    "**SUBSETTING DATE AND VOLTAGE COLUMNS ONLY**"
   ]
  },
  {
   "cell_type": "code",
   "execution_count": 37,
   "id": "60f60788-59f0-483a-bc10-f453089bc34b",
   "metadata": {},
   "outputs": [
    {
     "data": {
      "text/plain": [
       "(2075259, 2)"
      ]
     },
     "execution_count": 37,
     "metadata": {},
     "output_type": "execute_result"
    }
   ],
   "source": [
    "data = data[[\"Date\",\"Voltage\"]]\n",
    "data.shape"
   ]
  },
  {
   "cell_type": "code",
   "execution_count": null,
   "id": "9d22400f-c9d8-4531-862e-7d377575e97f",
   "metadata": {},
   "outputs": [],
   "source": []
  },
  {
   "cell_type": "code",
   "execution_count": null,
   "id": "7fff5603-8cea-4e66-9ba6-921e0c613511",
   "metadata": {},
   "outputs": [],
   "source": []
  },
  {
   "cell_type": "markdown",
   "id": "33d19504-f623-4af3-868d-5fa4d406b551",
   "metadata": {},
   "source": [
    "**DATA TYPE**"
   ]
  },
  {
   "cell_type": "code",
   "execution_count": 4,
   "id": "34bb0cbe-fc81-4d71-9779-b20b94a69590",
   "metadata": {},
   "outputs": [
    {
     "data": {
      "text/plain": [
       "Date       object\n",
       "Voltage    object\n",
       "dtype: object"
      ]
     },
     "execution_count": 4,
     "metadata": {},
     "output_type": "execute_result"
    }
   ],
   "source": [
    "data.dtypes"
   ]
  },
  {
   "cell_type": "markdown",
   "id": "24693984-d48b-4e2b-995c-3cb4a1ec5104",
   "metadata": {},
   "source": [
    "Since data type of date and voltage column is not proper so we need to make it into proper format"
   ]
  },
  {
   "cell_type": "code",
   "execution_count": null,
   "id": "70e1224a-24cc-4d18-807c-be39db100f7f",
   "metadata": {},
   "outputs": [],
   "source": []
  },
  {
   "cell_type": "code",
   "execution_count": null,
   "id": "3265c42e-f29d-43a7-b06b-14b66970f502",
   "metadata": {},
   "outputs": [],
   "source": []
  },
  {
   "cell_type": "markdown",
   "id": "7aeedc34-6ba7-44e3-ad63-e811972c872d",
   "metadata": {},
   "source": [
    "**MAKING DATE AND VOLTAGE VARIABLE IN PROPER DATATYPE**"
   ]
  },
  {
   "cell_type": "code",
   "execution_count": 38,
   "id": "0d5d386e-d0ab-44e2-a4a2-2d9a91a52d5d",
   "metadata": {},
   "outputs": [],
   "source": [
    "data[\"Date\"]=pd.to_datetime(data[\"Date\"])\n",
    "data['Voltage'] = pd.to_numeric(data['Voltage'], errors='coerce')"
   ]
  },
  {
   "cell_type": "markdown",
   "id": "8a07c724-a918-40a6-8bf5-9cf7f2801954",
   "metadata": {},
   "source": [
    "**RECHECKING**"
   ]
  },
  {
   "cell_type": "code",
   "execution_count": 39,
   "id": "892cb377-8579-4eb4-9831-f4f4a90f9604",
   "metadata": {},
   "outputs": [
    {
     "data": {
      "text/plain": [
       "Date       datetime64[ns]\n",
       "Voltage           float64\n",
       "dtype: object"
      ]
     },
     "execution_count": 39,
     "metadata": {},
     "output_type": "execute_result"
    }
   ],
   "source": [
    "data.dtypes"
   ]
  },
  {
   "cell_type": "code",
   "execution_count": 14,
   "id": "a40c5a88-d6f9-4ac3-81b9-a64ed21ad768",
   "metadata": {},
   "outputs": [],
   "source": []
  },
  {
   "cell_type": "code",
   "execution_count": null,
   "id": "5dfd17e0-5ab9-4d13-b3eb-2462221fa0c9",
   "metadata": {},
   "outputs": [],
   "source": []
  },
  {
   "cell_type": "markdown",
   "id": "2fa0b79c-e4cb-4c5a-89c5-86b7ed10b467",
   "metadata": {},
   "source": [
    "**SORTING DATE VARIABLE IN CHRONOLOGICAL ORDER**"
   ]
  },
  {
   "cell_type": "code",
   "execution_count": 40,
   "id": "f9f4742e-2875-473d-9002-2f5aa264b285",
   "metadata": {},
   "outputs": [
    {
     "data": {
      "text/plain": [
       "Date           0\n",
       "Voltage    25979\n",
       "dtype: int64"
      ]
     },
     "execution_count": 40,
     "metadata": {},
     "output_type": "execute_result"
    }
   ],
   "source": [
    "data = data.sort_values(\"Date\",ascending = True)\n",
    "data.isnull().sum()"
   ]
  },
  {
   "cell_type": "code",
   "execution_count": null,
   "id": "8c98a81e-ae89-48a1-9dc2-47da0848ea6b",
   "metadata": {},
   "outputs": [],
   "source": []
  },
  {
   "cell_type": "code",
   "execution_count": null,
   "id": "4aba5db1-5864-462b-b6f9-252ce58f7993",
   "metadata": {},
   "outputs": [],
   "source": []
  },
  {
   "cell_type": "markdown",
   "id": "a96d6ad0-8fa9-4aa2-96f6-7a4039aab46b",
   "metadata": {},
   "source": [
    "**NULL VALUES**"
   ]
  },
  {
   "cell_type": "code",
   "execution_count": 40,
   "id": "d70cbd03-b010-4cbe-9768-e789a4a6057d",
   "metadata": {},
   "outputs": [
    {
     "data": {
      "text/plain": [
       "Date           0\n",
       "Voltage    25979\n",
       "dtype: int64"
      ]
     },
     "execution_count": 40,
     "metadata": {},
     "output_type": "execute_result"
    }
   ],
   "source": [
    "data.isnull().sum()"
   ]
  },
  {
   "cell_type": "code",
   "execution_count": null,
   "id": "19f8e4d6-bed1-4383-af04-a274b05fc678",
   "metadata": {},
   "outputs": [],
   "source": []
  },
  {
   "cell_type": "code",
   "execution_count": null,
   "id": "d93f281e-4ea2-4981-b3ab-65604677c47a",
   "metadata": {},
   "outputs": [],
   "source": []
  },
  {
   "cell_type": "markdown",
   "id": "5c977c4b-e4b6-46c2-b346-6bf61a2360ea",
   "metadata": {},
   "source": [
    "**HANDLING MISSING VALUES**"
   ]
  },
  {
   "cell_type": "code",
   "execution_count": 41,
   "id": "bd4f3fa1-a64c-48b2-ad3f-6b27f3f991d3",
   "metadata": {},
   "outputs": [],
   "source": [
    "data['Voltage'].fillna(0, inplace=True)"
   ]
  },
  {
   "cell_type": "markdown",
   "id": "8c272c76-b59b-4ef7-89b5-26025b93d160",
   "metadata": {},
   "source": [
    "Here i am replacing missing value with 0 because i am assuming that missing baluse because of power cut"
   ]
  },
  {
   "cell_type": "code",
   "execution_count": 42,
   "id": "f6c25189-41bd-4014-a7a0-90c82936eab9",
   "metadata": {},
   "outputs": [
    {
     "data": {
      "text/plain": [
       "Date       0\n",
       "Voltage    0\n",
       "dtype: int64"
      ]
     },
     "execution_count": 42,
     "metadata": {},
     "output_type": "execute_result"
    }
   ],
   "source": [
    "data.isnull().sum()"
   ]
  },
  {
   "cell_type": "code",
   "execution_count": null,
   "id": "3b178262-deb3-4eb8-8587-9c5db58a9394",
   "metadata": {},
   "outputs": [],
   "source": []
  },
  {
   "cell_type": "code",
   "execution_count": null,
   "id": "3dabf8d7-d04e-4dbd-a3ad-a4615cf5e683",
   "metadata": {},
   "outputs": [],
   "source": []
  },
  {
   "cell_type": "markdown",
   "id": "e5e88f1f-5338-4060-8dfa-d614a2fddcf0",
   "metadata": {},
   "source": [
    "**CHECKING FOR DUPLICATE ENTRIES AND GROUPING IT**"
   ]
  },
  {
   "cell_type": "markdown",
   "id": "686ca540-5c79-40f8-a9ea-9d74578d7267",
   "metadata": {},
   "source": [
    "**CODE FOR CHECKING DUPLICATE ENTRIES**"
   ]
  },
  {
   "cell_type": "code",
   "execution_count": 44,
   "id": "8242f3af-79c7-4d7a-9c0f-32662bf23e8d",
   "metadata": {},
   "outputs": [
    {
     "data": {
      "text/plain": [
       "Date\n",
       "2008-12-06    1440\n",
       "2009-08-09    1440\n",
       "2009-08-07    1440\n",
       "2009-08-06    1440\n",
       "2009-08-05    1440\n",
       "              ... \n",
       "2008-04-05    1440\n",
       "2008-04-04    1440\n",
       "2010-11-24    1440\n",
       "2010-11-26    1263\n",
       "2006-12-16     396\n",
       "Name: count, Length: 1442, dtype: int64"
      ]
     },
     "execution_count": 44,
     "metadata": {},
     "output_type": "execute_result"
    }
   ],
   "source": [
    "data[\"Date\"].value_counts()"
   ]
  },
  {
   "cell_type": "code",
   "execution_count": null,
   "id": "12d57724-6703-4c04-a7bb-72993956434b",
   "metadata": {},
   "outputs": [],
   "source": []
  },
  {
   "cell_type": "code",
   "execution_count": null,
   "id": "b80f8e52-86c9-49cf-8801-774617f38519",
   "metadata": {},
   "outputs": [],
   "source": []
  },
  {
   "cell_type": "markdown",
   "id": "8629570e-e4ac-4b16-a28b-72429e9d637b",
   "metadata": {},
   "source": [
    "**CODE FOR GROUPING THE DATA**"
   ]
  },
  {
   "cell_type": "code",
   "execution_count": 46,
   "id": "53f762a0-b88d-4611-9fac-dd0c132e0b88",
   "metadata": {},
   "outputs": [
    {
     "data": {
      "text/plain": [
       "(1442, 2)"
      ]
     },
     "execution_count": 46,
     "metadata": {},
     "output_type": "execute_result"
    }
   ],
   "source": [
    "data = data.groupby(\"Date\")[\"Voltage\"].sum().reset_index()\n",
    "data.shape"
   ]
  },
  {
   "cell_type": "code",
   "execution_count": null,
   "id": "568eefaa-03a7-48e6-ae65-eabab58ce2c0",
   "metadata": {},
   "outputs": [],
   "source": []
  },
  {
   "cell_type": "code",
   "execution_count": null,
   "id": "14b89b4d-63df-4d19-a8a8-9d8a1046087f",
   "metadata": {},
   "outputs": [],
   "source": []
  },
  {
   "cell_type": "markdown",
   "id": "d41edd8d-2f98-41ad-9858-9b39ba608900",
   "metadata": {},
   "source": [
    "**CROSS CHECKING**"
   ]
  },
  {
   "cell_type": "code",
   "execution_count": 47,
   "id": "bccd69be-88b9-44e6-84bf-aa8c03ff2f9c",
   "metadata": {},
   "outputs": [
    {
     "data": {
      "text/plain": [
       "Date\n",
       "2006-12-16    1\n",
       "2009-08-10    1\n",
       "2009-08-08    1\n",
       "2009-08-07    1\n",
       "2009-08-06    1\n",
       "             ..\n",
       "2008-04-08    1\n",
       "2008-04-07    1\n",
       "2008-04-06    1\n",
       "2008-04-05    1\n",
       "2010-11-26    1\n",
       "Name: count, Length: 1442, dtype: int64"
      ]
     },
     "execution_count": 47,
     "metadata": {},
     "output_type": "execute_result"
    }
   ],
   "source": [
    "data[\"Date\"].value_counts()"
   ]
  },
  {
   "cell_type": "code",
   "execution_count": null,
   "id": "407971ee-794a-42c0-8599-5373d27c1c6c",
   "metadata": {},
   "outputs": [],
   "source": []
  },
  {
   "cell_type": "code",
   "execution_count": null,
   "id": "a6aaafbd-461b-4530-8857-4c4b37e11ce0",
   "metadata": {},
   "outputs": [],
   "source": []
  },
  {
   "cell_type": "markdown",
   "id": "ce5ed5d9-2204-4b98-bd6e-aca4083a5549",
   "metadata": {},
   "source": [
    "**SUBSET DATE VARIABLE AS ROW INDEX**"
   ]
  },
  {
   "cell_type": "code",
   "execution_count": 48,
   "id": "75331c9f-b140-478d-8edd-73e714976106",
   "metadata": {},
   "outputs": [],
   "source": [
    "data= data.set_index(\"Date\")"
   ]
  },
  {
   "cell_type": "code",
   "execution_count": 49,
   "id": "364a78e6-98ae-4885-a32d-2a187ca6384f",
   "metadata": {},
   "outputs": [
    {
     "data": {
      "text/html": [
       "<div>\n",
       "<style scoped>\n",
       "    .dataframe tbody tr th:only-of-type {\n",
       "        vertical-align: middle;\n",
       "    }\n",
       "\n",
       "    .dataframe tbody tr th {\n",
       "        vertical-align: top;\n",
       "    }\n",
       "\n",
       "    .dataframe thead th {\n",
       "        text-align: right;\n",
       "    }\n",
       "</style>\n",
       "<table border=\"1\" class=\"dataframe\">\n",
       "  <thead>\n",
       "    <tr style=\"text-align: right;\">\n",
       "      <th></th>\n",
       "      <th>Voltage</th>\n",
       "    </tr>\n",
       "    <tr>\n",
       "      <th>Date</th>\n",
       "      <th></th>\n",
       "    </tr>\n",
       "  </thead>\n",
       "  <tbody>\n",
       "    <tr>\n",
       "      <th>2006-12-16</th>\n",
       "      <td>93552.53</td>\n",
       "    </tr>\n",
       "    <tr>\n",
       "      <th>2006-12-17</th>\n",
       "      <td>345725.32</td>\n",
       "    </tr>\n",
       "    <tr>\n",
       "      <th>2006-12-18</th>\n",
       "      <td>347373.64</td>\n",
       "    </tr>\n",
       "    <tr>\n",
       "      <th>2006-12-19</th>\n",
       "      <td>348479.01</td>\n",
       "    </tr>\n",
       "    <tr>\n",
       "      <th>2006-12-20</th>\n",
       "      <td>348923.61</td>\n",
       "    </tr>\n",
       "    <tr>\n",
       "      <th>2006-12-21</th>\n",
       "      <td>346616.31</td>\n",
       "    </tr>\n",
       "    <tr>\n",
       "      <th>2006-12-22</th>\n",
       "      <td>347305.75</td>\n",
       "    </tr>\n",
       "    <tr>\n",
       "      <th>2006-12-23</th>\n",
       "      <td>345795.95</td>\n",
       "    </tr>\n",
       "    <tr>\n",
       "      <th>2006-12-24</th>\n",
       "      <td>348029.91</td>\n",
       "    </tr>\n",
       "    <tr>\n",
       "      <th>2006-12-25</th>\n",
       "      <td>350495.90</td>\n",
       "    </tr>\n",
       "  </tbody>\n",
       "</table>\n",
       "</div>"
      ],
      "text/plain": [
       "              Voltage\n",
       "Date                 \n",
       "2006-12-16   93552.53\n",
       "2006-12-17  345725.32\n",
       "2006-12-18  347373.64\n",
       "2006-12-19  348479.01\n",
       "2006-12-20  348923.61\n",
       "2006-12-21  346616.31\n",
       "2006-12-22  347305.75\n",
       "2006-12-23  345795.95\n",
       "2006-12-24  348029.91\n",
       "2006-12-25  350495.90"
      ]
     },
     "execution_count": 49,
     "metadata": {},
     "output_type": "execute_result"
    }
   ],
   "source": [
    "data.head(10)"
   ]
  },
  {
   "cell_type": "code",
   "execution_count": null,
   "id": "870183ad-381d-4738-a493-8a293c510104",
   "metadata": {},
   "outputs": [],
   "source": []
  },
  {
   "cell_type": "code",
   "execution_count": null,
   "id": "aabed154-9a73-4efa-b6aa-aac3d81ad655",
   "metadata": {},
   "outputs": [],
   "source": []
  },
  {
   "cell_type": "markdown",
   "id": "b054bde0-d5a5-4165-9f3c-30425f19af35",
   "metadata": {},
   "source": [
    "**RESAMPLING**"
   ]
  },
  {
   "cell_type": "code",
   "execution_count": 50,
   "id": "a63ac222-b410-4912-a954-16eea3f58159",
   "metadata": {},
   "outputs": [
    {
     "data": {
      "text/plain": [
       "(48,)"
      ]
     },
     "execution_count": 50,
     "metadata": {},
     "output_type": "execute_result"
    }
   ],
   "source": [
    "# w stands for weekly\n",
    "y = data[\"Voltage\"].resample(\"M\").mean()\n",
    "y.shape"
   ]
  },
  {
   "cell_type": "code",
   "execution_count": null,
   "id": "e61ae94e-eb26-4e4e-9512-29e7a3926442",
   "metadata": {},
   "outputs": [],
   "source": []
  },
  {
   "cell_type": "code",
   "execution_count": null,
   "id": "053def4c-38be-4a32-8e9e-415c4642c6d1",
   "metadata": {},
   "outputs": [],
   "source": []
  },
  {
   "cell_type": "markdown",
   "id": "29fb1010-1c10-427a-9c6b-f2c6e8938e66",
   "metadata": {},
   "source": [
    "**VISUALIZATING VOLTAGE OVER DATE**"
   ]
  },
  {
   "cell_type": "code",
   "execution_count": 13,
   "id": "a1979320-e4a0-4d6f-85af-22350cadb891",
   "metadata": {},
   "outputs": [
    {
     "data": {
      "image/png": "[encoded data removed]",
      "text/plain": [
       "<Figure size 1000x600 with 1 Axes>"
      ]
     },
     "metadata": {},
     "output_type": "display_data"
    }
   ],
   "source": [
    "y.plot(figsize=(10,6))\n",
    "plt.show()"
   ]
  },
  {
   "cell_type": "code",
   "execution_count": null,
   "id": "7376ca03-bbac-4e24-badf-335ef14eb238",
   "metadata": {},
   "outputs": [],
   "source": []
  },
  {
   "cell_type": "code",
   "execution_count": null,
   "id": "1e759360-f526-4b55-8228-ee5ca5e38a61",
   "metadata": {},
   "outputs": [],
   "source": []
  },
  {
   "cell_type": "markdown",
   "id": "4db2b27c-cd98-49ba-8757-17c682910e3c",
   "metadata": {},
   "source": [
    "**SEPARATING DATA INTO TRAIN AND TEST**"
   ]
  },
  {
   "cell_type": "markdown",
   "id": "09d15eed-64d4-4585-9095-e1850800c598",
   "metadata": {},
   "source": [
    "**TRAINING DATA**"
   ]
  },
  {
   "cell_type": "code",
   "execution_count": 14,
   "id": "ac77f688-17f5-4f56-bb97-0489ec67f31b",
   "metadata": {},
   "outputs": [
    {
     "name": "stdout",
     "output_type": "stream",
     "text": [
      "(36,)\n"
     ]
    },
    {
     "data": {
      "text/plain": [
       "Date\n",
       "2006-12-31    331921.036214\n",
       "2007-01-31    346903.341604\n",
       "2007-02-28    346347.944990\n",
       "2007-03-31    346339.406124\n",
       "2007-04-30    344914.720708\n",
       "2007-05-31    338656.843871\n",
       "2007-06-30    343983.578796\n",
       "2007-07-31    342259.986174\n",
       "2007-08-31    342631.687641\n",
       "2007-09-30    344770.809324\n",
       "2007-10-31    345205.260959\n",
       "2007-11-30    346851.735324\n",
       "2007-12-31    348085.069995\n",
       "2008-01-31    346530.720641\n",
       "2008-02-29    346468.292399\n",
       "2008-03-31    347508.524834\n",
       "2008-04-30    347358.515333\n",
       "2008-05-31    346129.833217\n",
       "2008-06-30    344124.332662\n",
       "2008-07-31    345270.058701\n",
       "2008-08-31    346223.620636\n",
       "2008-09-30    345779.396333\n",
       "2008-10-31    346074.999803\n",
       "2008-11-30    346445.194291\n",
       "2008-12-31    350035.735804\n",
       "2009-01-31    351062.135479\n",
       "2009-02-28    349051.008604\n",
       "2009-03-31    348917.144184\n",
       "2009-04-30    347951.846324\n",
       "2009-05-31    345771.154175\n",
       "2009-06-30    347078.839354\n",
       "2009-07-31    348505.565466\n",
       "2009-08-31    347416.100757\n",
       "2009-09-30    347250.867986\n",
       "2009-10-31    346887.550963\n",
       "2009-11-30    348403.062329\n",
       "Freq: ME, Name: Voltage, dtype: float64"
      ]
     },
     "execution_count": 14,
     "metadata": {},
     "output_type": "execute_result"
    }
   ],
   "source": [
    "train = y.iloc[0:36]\n",
    "print(train.shape)\n",
    "train"
   ]
  },
  {
   "cell_type": "code",
   "execution_count": null,
   "id": "ab8a79e0-b66a-4ada-a1f6-b8d664bf085d",
   "metadata": {},
   "outputs": [],
   "source": []
  },
  {
   "cell_type": "code",
   "execution_count": null,
   "id": "09884203-e8db-47b5-aa30-f0f2f2ec44f0",
   "metadata": {},
   "outputs": [],
   "source": []
  },
  {
   "cell_type": "markdown",
   "id": "43f71cbc-d744-451a-975c-59760901351c",
   "metadata": {},
   "source": [
    "**TESTING DATA**"
   ]
  },
  {
   "cell_type": "code",
   "execution_count": 15,
   "id": "e2cd5506-0bc1-4b78-b500-d1113a348414",
   "metadata": {},
   "outputs": [
    {
     "name": "stdout",
     "output_type": "stream",
     "text": [
      "(12,)\n"
     ]
    },
    {
     "data": {
      "text/plain": [
       "Date\n",
       "2009-12-31    351478.474830\n",
       "2010-01-31    350311.753720\n",
       "2010-02-28    348981.172133\n",
       "2010-03-31    348394.809423\n",
       "2010-04-30    348167.197995\n",
       "2010-05-31    346131.621931\n",
       "2010-06-30    346812.278657\n",
       "2010-07-31    346389.172576\n",
       "2010-08-31    347304.857539\n",
       "2010-09-30    347271.753874\n",
       "2010-10-31    348709.364512\n",
       "2010-11-30    345000.757692\n",
       "Freq: ME, Name: Voltage, dtype: float64"
      ]
     },
     "execution_count": 15,
     "metadata": {},
     "output_type": "execute_result"
    }
   ],
   "source": [
    "test = y.iloc[36:]\n",
    "print(test.shape)\n",
    "test"
   ]
  },
  {
   "cell_type": "code",
   "execution_count": null,
   "id": "342bc251-f733-4e29-8daf-7756581fea61",
   "metadata": {},
   "outputs": [],
   "source": []
  },
  {
   "cell_type": "code",
   "execution_count": null,
   "id": "a9458d48-16fd-4cdc-9f29-cef5f243a2b9",
   "metadata": {},
   "outputs": [],
   "source": []
  },
  {
   "cell_type": "markdown",
   "id": "5908c6dd-b1d5-48e8-a759-c78779e3e147",
   "metadata": {},
   "source": [
    "**VISUALIZING TRAINING AND TESTING DATA WITHIN A WINDOW**"
   ]
  },
  {
   "cell_type": "code",
   "execution_count": 51,
   "id": "4c257a5c-829b-4d18-b397-5a4d19fffb71",
   "metadata": {},
   "outputs": [
    {
     "data": {
      "image/png": "[encoded data removed]",
      "text/plain": [
       "<Figure size 1000x600 with 1 Axes>"
      ]
     },
     "metadata": {},
     "output_type": "display_data"
    }
   ],
   "source": [
    "train.plot(figsize=(10,6), title= 'Average Sales', fontsize=14)\n",
    "test.plot(figsize=(10,6), title= 'Average Sales', fontsize=14)\n",
    "plt.show()"
   ]
  },
  {
   "cell_type": "code",
   "execution_count": null,
   "id": "708c5868-85f6-48ee-a815-b966635e8141",
   "metadata": {},
   "outputs": [],
   "source": []
  },
  {
   "cell_type": "code",
   "execution_count": null,
   "id": "f48fba74-5e92-43cc-aeeb-60656ff860cc",
   "metadata": {},
   "outputs": [],
   "source": []
  },
  {
   "cell_type": "markdown",
   "id": "d215c8b0-e955-467e-9aae-ce139a408ec7",
   "metadata": {},
   "source": [
    "**DECOMPOSITION**"
   ]
  },
  {
   "cell_type": "code",
   "execution_count": 17,
   "id": "dd1d2d8b-c311-42b8-ace4-bf2c84040814",
   "metadata": {},
   "outputs": [
    {
     "data": {
      "image/png": "[encoded data removed]",
      "text/plain": [
       "<Figure size 640x480 with 4 Axes>"
      ]
     },
     "metadata": {},
     "output_type": "display_data"
    }
   ],
   "source": [
    "import statsmodels.api as sm\n",
    "decomposition = sm.tsa.seasonal_decompose(y)\n",
    "decomposition.plot()\n",
    "plt.show()"
   ]
  },
  {
   "cell_type": "code",
   "execution_count": null,
   "id": "1fca0610-4b86-40f9-848a-5771712038e7",
   "metadata": {},
   "outputs": [],
   "source": []
  },
  {
   "cell_type": "code",
   "execution_count": null,
   "id": "b792bac1-e6fc-42b9-a238-62539136b1fa",
   "metadata": {},
   "outputs": [],
   "source": []
  },
  {
   "cell_type": "markdown",
   "id": "974efd51-7068-4d4e-80be-adc56ecde4fe",
   "metadata": {},
   "source": [
    "# BUILDING HOLT WINTER MODEL"
   ]
  },
  {
   "cell_type": "code",
   "execution_count": 52,
   "id": "62c5ee99-9875-4ac5-9ff3-fd694124d4bf",
   "metadata": {},
   "outputs": [
    {
     "data": {
      "image/png": "[encoded data removed]",
      "text/plain": [
       "<Figure size 1000x600 with 1 Axes>"
      ]
     },
     "metadata": {},
     "output_type": "display_data"
    }
   ],
   "source": [
    "from statsmodels.tsa.api import ExponentialSmoothing\n",
    "Holt_Winter_df = test.copy()\n",
    "#seasonalperiods=gamma\n",
    "fit1 = ExponentialSmoothing(train ,seasonal_periods=12,\n",
    "                            trend='add',      # add----> for only seasonal data ,# mul---> for seasonal as well as trend\n",
    "                            seasonal='add').fit()\n",
    "Holt_Winter_df['Holt_Winter'] = fit1.forecast(steps=len(test))\n",
    " \n",
    "train.plot(figsize=(10,6), title= 'Average Sales', fontsize=14)\n",
    "test.plot(figsize=(10,6), title= 'Average Sales', fontsize=14, c=\"orange\")\n",
    "Holt_Winter_df['Holt_Winter'].plot(figsize=(10,6), title= 'Average Sales', fontsize=14, c=\"green\")\n",
    "plt.show()\n"
   ]
  },
  {
   "cell_type": "code",
   "execution_count": null,
   "id": "70c7f89f-2cbe-4711-a520-e50d01fd2ba3",
   "metadata": {},
   "outputs": [],
   "source": []
  },
  {
   "cell_type": "code",
   "execution_count": null,
   "id": "789991f3-29dc-41e0-8c84-2ec28f392b26",
   "metadata": {},
   "outputs": [],
   "source": []
  },
  {
   "cell_type": "code",
   "execution_count": 19,
   "id": "ad88163a-58b2-4d01-b116-649870ab9d50",
   "metadata": {},
   "outputs": [
    {
     "data": {
      "text/plain": [
       "2009-12-31    351800.768305\n",
       "2010-01-31    351499.370896\n",
       "2010-02-28    350388.389136\n",
       "2010-03-31    350845.694354\n",
       "2010-04-30    350356.734080\n",
       "2010-05-31    348739.723931\n",
       "2010-06-30    348987.125026\n",
       "2010-07-31    348389.958280\n",
       "2010-08-31    349064.968163\n",
       "2010-09-30    349957.812860\n",
       "2010-10-31    350361.317053\n",
       "2010-11-30    351313.888171\n",
       "Freq: ME, dtype: float64"
      ]
     },
     "execution_count": 19,
     "metadata": {},
     "output_type": "execute_result"
    }
   ],
   "source": [
    "Holt_Winter_df['Holt_Winter']"
   ]
  },
  {
   "cell_type": "code",
   "execution_count": null,
   "id": "c90f9f83-b01a-40d2-9345-9e3d490916b5",
   "metadata": {},
   "outputs": [],
   "source": []
  },
  {
   "cell_type": "code",
   "execution_count": null,
   "id": "cb8499b4-c028-4c3c-b2c5-eb3b23e37290",
   "metadata": {},
   "outputs": [],
   "source": []
  },
  {
   "cell_type": "code",
   "execution_count": 20,
   "id": "dd0cf999-04ad-4f36-a910-d5f7ca7f9725",
   "metadata": {},
   "outputs": [
    {
     "data": {
      "text/plain": [
       "602.415287832334"
      ]
     },
     "execution_count": 20,
     "metadata": {},
     "output_type": "execute_result"
    }
   ],
   "source": [
    "fit1.aic"
   ]
  },
  {
   "cell_type": "code",
   "execution_count": null,
   "id": "9a682304-8d59-49e9-a238-af0c5ce36271",
   "metadata": {},
   "outputs": [],
   "source": []
  },
  {
   "cell_type": "code",
   "execution_count": null,
   "id": "a7521feb-7083-4dfb-a035-e73741704142",
   "metadata": {},
   "outputs": [],
   "source": []
  },
  {
   "cell_type": "code",
   "execution_count": 21,
   "id": "c48a71be-87cd-4bf6-83f1-9c039b420e47",
   "metadata": {},
   "outputs": [
    {
     "name": "stdout",
     "output_type": "stream",
     "text": [
      "2625.646502525232\n"
     ]
    }
   ],
   "source": [
    "from sklearn.metrics import mean_squared_error\n",
    "from math import sqrt\n",
    "rmse = sqrt(mean_squared_error(test,Holt_Winter_df['Holt_Winter']))\n",
    "print(rmse)"
   ]
  },
  {
   "cell_type": "code",
   "execution_count": null,
   "id": "1623c26f-acf4-4b82-a3ec-a2d63add107d",
   "metadata": {},
   "outputs": [],
   "source": []
  },
  {
   "cell_type": "code",
   "execution_count": null,
   "id": "fbb7e289-70f9-44fd-98a4-b69c590e1d00",
   "metadata": {},
   "outputs": [],
   "source": []
  },
  {
   "cell_type": "markdown",
   "id": "b19e608b-8035-4f26-a64b-860279f5a220",
   "metadata": {},
   "source": [
    "# FORECASTING VOLTAGE FOR UPCOMMING ONE YEAR"
   ]
  },
  {
   "cell_type": "code",
   "execution_count": 53,
   "id": "0f30887a-6a2d-45c2-bfbc-3db7a14848a0",
   "metadata": {},
   "outputs": [
    {
     "data": {
      "image/png": "[encoded data removed]",
      "text/plain": [
       "<Figure size 1000x600 with 1 Axes>"
      ]
     },
     "metadata": {},
     "output_type": "display_data"
    }
   ],
   "source": [
    "from statsmodels.tsa.api import ExponentialSmoothing\n",
    "Holt_Winter_df = test.copy()\n",
    "#seasonalperiods=gamma\n",
    "fit1 = ExponentialSmoothing(y,seasonal_periods=12,\n",
    "                            trend='add',\n",
    "                            seasonal='add').fit()\n",
    "\n",
    "# Y_predictions = fit1.predict(start = pd.to_datetime('2017-01-31))\n",
    "Y_predictions  = fit1.forecast(steps=12)\n",
    " \n",
    "y.plot(figsize=(10,6), title= 'Average Sales', fontsize=14)\n",
    "Y_predictions.plot(figsize=(10,6), title= 'Average Sales', fontsize=14)\n",
    "plt.show()\n"
   ]
  },
  {
   "cell_type": "code",
   "execution_count": null,
   "id": "670c57e3-be3a-490c-bab9-2d15e1b063e8",
   "metadata": {},
   "outputs": [],
   "source": []
  },
  {
   "cell_type": "code",
   "execution_count": null,
   "id": "b70be8a6-030a-48c2-8cac-bdcc6d569429",
   "metadata": {},
   "outputs": [],
   "source": []
  },
  {
   "cell_type": "code",
   "execution_count": null,
   "id": "edf3f092-24b1-4b0f-9fd2-db585350a2dd",
   "metadata": {},
   "outputs": [],
   "source": []
  },
  {
   "cell_type": "code",
   "execution_count": 54,
   "id": "3ecc6df2-6181-4681-8cba-385ae15f0a92",
   "metadata": {},
   "outputs": [
    {
     "data": {
      "image/png": "[encoded data removed]",
      "text/plain": [
       "<Figure size 1000x600 with 1 Axes>"
      ]
     },
     "metadata": {},
     "output_type": "display_data"
    }
   ],
   "source": [
    "from statsmodels.tsa.api import ExponentialSmoothing\n",
    "Holt_Winter_df = test.copy()\n",
    "#seasonalperiods=gamma\n",
    "fit1 = ExponentialSmoothing(train ,seasonal_periods=12,\n",
    "                            trend='mul',      # add----> for only seasonal data ,# mul---> for seasonal as well as trend\n",
    "                            seasonal='mul').fit()\n",
    "Holt_Winter_df['Holt_Winter'] = fit1.forecast(steps=len(test))\n",
    " \n",
    "train.plot(figsize=(10,6), title= 'Average Sales', fontsize=14)\n",
    "test.plot(figsize=(10,6), title= 'Average Sales', fontsize=14, c=\"orange\")\n",
    "Holt_Winter_df['Holt_Winter'].plot(figsize=(10,6), title= 'Average Sales', fontsize=14, c=\"green\")\n",
    "plt.show()\n"
   ]
  },
  {
   "cell_type": "code",
   "execution_count": 63,
   "id": "fc13f394-f4ec-42ed-85ca-6411294853ae",
   "metadata": {},
   "outputs": [
    {
     "name": "stdout",
     "output_type": "stream",
     "text": [
      "Collecting pmdarima\n",
      "  Using cached pmdarima-2.0.4-cp312-cp312-win_amd64.whl.metadata (8.0 kB)\n",
      "Requirement already satisfied: joblib>=0.11 in c:\\users\\pragya\\onedrive\\documents\\lib\\site-packages (from pmdarima) (1.4.2)\n",
      "Collecting Cython!=0.29.18,!=0.29.31,>=0.29 (from pmdarima)\n",
      "  Downloading Cython-3.0.12-cp312-cp312-win_amd64.whl.metadata (3.6 kB)\n",
      "Requirement already satisfied: numpy>=1.21.2 in c:\\users\\pragya\\onedrive\\documents\\lib\\site-packages (from pmdarima) (1.26.4)\n",
      "Requirement already satisfied: pandas>=0.19 in c:\\users\\pragya\\onedrive\\documents\\lib\\site-packages (from pmdarima) (2.2.2)\n",
      "Requirement already satisfied: scikit-learn>=0.22 in c:\\users\\pragya\\onedrive\\documents\\lib\\site-packages (from pmdarima) (1.4.2)\n",
      "Requirement already satisfied: scipy>=1.3.2 in c:\\users\\pragya\\onedrive\\documents\\lib\\site-packages (from pmdarima) (1.13.1)\n",
      "Requirement already satisfied: statsmodels>=0.13.2 in c:\\users\\pragya\\onedrive\\documents\\lib\\site-packages (from pmdarima) (0.14.2)\n",
      "Requirement already satisfied: urllib3 in c:\\users\\pragya\\onedrive\\documents\\lib\\site-packages (from pmdarima) (2.2.2)\n",
      "Requirement already satisfied: setuptools!=50.0.0,>=38.6.0 in c:\\users\\pragya\\onedrive\\documents\\lib\\site-packages (from pmdarima) (69.5.1)\n",
      "Requirement already satisfied: packaging>=17.1 in c:\\users\\pragya\\onedrive\\documents\\lib\\site-packages (from pmdarima) (23.2)\n",
      "Requirement already satisfied: python-dateutil>=2.8.2 in c:\\users\\pragya\\onedrive\\documents\\lib\\site-packages (from pandas>=0.19->pmdarima) (2.9.0.post0)\n",
      "Requirement already satisfied: pytz>=2020.1 in c:\\users\\pragya\\onedrive\\documents\\lib\\site-packages (from pandas>=0.19->pmdarima) (2024.1)\n",
      "Requirement already satisfied: tzdata>=2022.7 in c:\\users\\pragya\\onedrive\\documents\\lib\\site-packages (from pandas>=0.19->pmdarima) (2023.3)\n",
      "Requirement already satisfied: threadpoolctl>=2.0.0 in c:\\users\\pragya\\onedrive\\documents\\lib\\site-packages (from scikit-learn>=0.22->pmdarima) (2.2.0)\n",
      "Requirement already satisfied: patsy>=0.5.6 in c:\\users\\pragya\\onedrive\\documents\\lib\\site-packages (from statsmodels>=0.13.2->pmdarima) (0.5.6)\n",
      "Requirement already satisfied: six in c:\\users\\pragya\\onedrive\\documents\\lib\\site-packages (from patsy>=0.5.6->statsmodels>=0.13.2->pmdarima) (1.16.0)\n",
      "Using cached pmdarima-2.0.4-cp312-cp312-win_amd64.whl (625 kB)\n",
      "Downloading Cython-3.0.12-cp312-cp312-win_amd64.whl (2.8 MB)\n",
      "   ---------------------------------------- 0.0/2.8 MB ? eta -:--:--\n",
      "   ---------------------------------------- 0.0/2.8 MB ? eta -:--:--\n",
      "   ---------------------------------------- 0.0/2.8 MB ? eta -:--:--\n",
      "   - -------------------------------------- 0.1/2.8 MB 1.1 MB/s eta 0:00:03\n",
      "   ------ --------------------------------- 0.5/2.8 MB 3.7 MB/s eta 0:00:01\n",
      "   --------- ------------------------------ 0.7/2.8 MB 4.0 MB/s eta 0:00:01\n",
      "   ----------- ---------------------------- 0.8/2.8 MB 3.7 MB/s eta 0:00:01\n",
      "   --------------- ------------------------ 1.1/2.8 MB 4.0 MB/s eta 0:00:01\n",
      "   ------------------ --------------------- 1.3/2.8 MB 4.1 MB/s eta 0:00:01\n",
      "   ----------------------- ---------------- 1.6/2.8 MB 4.4 MB/s eta 0:00:01\n",
      "   ------------------------- -------------- 1.8/2.8 MB 4.5 MB/s eta 0:00:01\n",
      "   ----------------------------- ---------- 2.1/2.8 MB 4.4 MB/s eta 0:00:01\n",
      "   ----------------------------------- ---- 2.5/2.8 MB 4.8 MB/s eta 0:00:01\n",
      "   ---------------------------------------  2.8/2.8 MB 4.9 MB/s eta 0:00:01\n",
      "   ---------------------------------------  2.8/2.8 MB 4.9 MB/s eta 0:00:01\n",
      "   ---------------------------------------- 2.8/2.8 MB 4.6 MB/s eta 0:00:00\n",
      "Installing collected packages: Cython, pmdarima\n",
      "Successfully installed Cython-3.0.12 pmdarima-2.0.4\n"
     ]
    }
   ],
   "source": [
    "# !pip install pmdarima"
   ]
  },
  {
   "cell_type": "code",
   "execution_count": null,
   "id": "03fb61ed-e9af-4793-85af-fcf506bf5af1",
   "metadata": {},
   "outputs": [],
   "source": []
  },
  {
   "cell_type": "code",
   "execution_count": null,
   "id": "075e9999-e329-49bf-a712-c7e57a2cacc6",
   "metadata": {},
   "outputs": [],
   "source": []
  },
  {
   "cell_type": "markdown",
   "id": "91b0d3fc-59b2-4ad3-be7f-a0d321ae11a9",
   "metadata": {},
   "source": [
    "# CONCLUSION"
   ]
  },
  {
   "cell_type": "markdown",
   "id": "d5110370-94d7-44c9-a5b1-5c6b26d8c2cc",
   "metadata": {},
   "source": [
    "\"The analysis indicates that electricity usage decreases from January to April and increases from May onwards.  \n",
    "This may be attributed to the arrival of the rainy season, when reduced sunlight and earlier onset of darkness result in greater use of electric lighting, thereby increasing electricity consumption.\"\n",
    "\n"
   ]
  },
  {
   "cell_type": "code",
   "execution_count": null,
   "id": "0ddcccda-34c3-433c-8bc9-5f8a6f2dc8db",
   "metadata": {},
   "outputs": [],
   "source": []
  },
  {
   "cell_type": "code",
   "execution_count": null,
   "id": "2a1633b5-8630-4d5a-ae27-79641485f42b",
   "metadata": {},
   "outputs": [],
   "source": []
  }
 ],
 "metadata": {
  "kernelspec": {
   "display_name": "Python 3 (ipykernel)",
   "language": "python",
   "name": "python3"
  },
  "language_info": {
   "codemirror_mode": {
    "name": "ipython",
    "version": 3
   },
   "file_extension": ".py",
   "mimetype": "text/x-python",
   "name": "python",
   "nbconvert_exporter": "python",
   "pygments_lexer": "ipython3",
   "version": "3.12.4"
  }
 },
 "nbformat": 4,
 "nbformat_minor": 5
}
